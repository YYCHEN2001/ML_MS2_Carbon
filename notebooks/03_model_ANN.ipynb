{
 "cells": [
  {
   "cell_type": "code",
   "id": "a52cde95f9d818c",
   "metadata": {
    "ExecuteTime": {
     "end_time": "2025-03-12T11:20:42.433414Z",
     "start_time": "2025-03-12T11:20:40.379401Z"
    }
   },
   "source": [
    "import pandas as pd\n",
    "import torch\n",
    "import torch.nn as nn\n",
    "import torch.optim as optim\n",
    "import optuna\n",
    "from sklearn.model_selection import train_test_split\n",
    "from torch.utils.data import DataLoader, TensorDataset\n",
    "import numpy as np\n",
    "\n",
    "device = torch.device('cuda' if torch.cuda.is_available() else 'cpu')\n",
    "\n",
    "data = pd.read_csv('../data/processed/dataset_reduced.csv')\n",
    "\n",
    "# 对 Cation, Anion 进行One-hot编码\n",
    "data_encoded = pd.get_dummies(data, columns=['Cation', 'Anion'])\n",
    "# 划分训练集和测试集\n",
    "data_encoded['target_class'] = pd.qcut(data_encoded['Cs'], q=10, labels=False)\n",
    "X = data_encoded.drop(['Cs', 'target_class'], axis=1)\n",
    "y = data_encoded['Cs']\n",
    "stratify_column = data_encoded['target_class']\n",
    "\n",
    "X_train, X_test, y_train, y_test = train_test_split(X, y, test_size=0.2, random_state=21, stratify=stratify_column)"
   ],
   "outputs": [],
   "execution_count": 1
  },
  {
   "metadata": {
    "ExecuteTime": {
     "end_time": "2025-03-12T11:20:53.146420Z",
     "start_time": "2025-03-12T11:20:53.075593Z"
    }
   },
   "cell_type": "code",
   "source": [
    "# 将布尔值列转换为整数类型（True -> 1, False -> 0）\n",
    "X_train = X_train.apply(lambda col: col.map(int) if col.dtype == 'bool' else col)\n",
    "X_test = X_test.apply(lambda col: col.map(int) if col.dtype == 'bool' else col)\n",
    "\n",
    "# 仅选择数值类型的列\n",
    "X_train_num = X_train.select_dtypes(include=['number'])\n",
    "X_test_num = X_test.select_dtypes(include=['number'])\n",
    "\n",
    "# 将数据转换为NumPy数组，并确保是float32类型\n",
    "X_train_tensor = torch.tensor(X_train_num.to_numpy(), dtype=torch.float32).to(device)\n",
    "y_train_tensor = torch.tensor(y_train.to_numpy(), dtype=torch.float32).view(-1, 1).to(device)\n",
    "X_test_tensor = torch.tensor(X_test_num.to_numpy(), dtype=torch.float32).to(device)\n",
    "y_test_tensor = torch.tensor(y_test.to_numpy(), dtype=torch.float32).view(-1, 1).to(device)\n",
    "\n",
    "# 创建DataLoader（批处理）\n",
    "train_dataset = TensorDataset(X_train_tensor, y_train_tensor)\n",
    "train_loader = DataLoader(train_dataset, batch_size=32, shuffle=True)\n",
    "\n",
    "# 定义ANN模型\n",
    "class ANNModel(nn.Module):\n",
    "    def __init__(self, input_dim, hidden_layers):\n",
    "        super(ANNModel, self).__init__()\n",
    "        layers = []\n",
    "        prev_dim = input_dim\n",
    "        for h_dim in hidden_layers:\n",
    "            layers.append(nn.Linear(prev_dim, h_dim))\n",
    "            layers.append(nn.ReLU())\n",
    "            prev_dim = h_dim\n",
    "        layers.append(nn.Linear(prev_dim, 1))  # 输出层\n",
    "        self.model = nn.Sequential(*layers)\n",
    "\n",
    "    def forward(self, x):\n",
    "        return self.model(x)"
   ],
   "id": "28a2093b7839a963",
   "outputs": [],
   "execution_count": 2
  },
  {
   "metadata": {
    "ExecuteTime": {
     "end_time": "2025-03-12T12:01:18.908762Z",
     "start_time": "2025-03-12T11:20:56.657449Z"
    }
   },
   "cell_type": "code",
   "source": [
    "# 定义MAPE损失函数\n",
    "def mape_loss(y_pred, y_true):\n",
    "    return torch.mean(torch.abs((y_true - y_pred) / y_true)) * 100  # 计算MAPE\n",
    "\n",
    "# 定义目标函数\n",
    "def objective(trial):\n",
    "    # 超参数搜索：隐藏层数、每层神经元数量\n",
    "    hidden_layers = []\n",
    "    num_layers = trial.suggest_int(\"num_layers\", 3, 6)  # 隐藏层数，范围为3到6层\n",
    "    for i in range(num_layers):\n",
    "        num_units = trial.suggest_int(f\"num_units_{i}\", 4, 128)  # 每层的神经元数量，范围为4到128\n",
    "        hidden_layers.append(num_units)\n",
    "\n",
    "    # 初始化模型并移动到GPU\n",
    "    model = ANNModel(input_dim=X_train.shape[1], hidden_layers=hidden_layers).to(device)\n",
    "    criterion = mape_loss\n",
    "    optimizer = optim.Adam(model.parameters(), lr=0.001)\n",
    "\n",
    "    # 训练模型\n",
    "    model.train()\n",
    "    for epoch in range(1000):\n",
    "        running_loss = 0.0  # 用于记录每个epoch的平均损失\n",
    "        for batch_X, batch_y in train_loader:\n",
    "            # 将数据转移到GPU\n",
    "            batch_X, batch_y = batch_X.to(device), batch_y.to(device)\n",
    "\n",
    "            optimizer.zero_grad()\n",
    "            output = model(batch_X)\n",
    "            loss = criterion(output, batch_y)\n",
    "            loss.backward()\n",
    "            optimizer.step()\n",
    "\n",
    "            running_loss += loss.item()\n",
    "\n",
    "        # 每50个epoch输出一次平均损失\n",
    "        if (epoch + 1) % 50 == 0:\n",
    "            avg_loss = running_loss / len(train_loader)\n",
    "            print(f\"Epoch [{epoch+1}/1000], Loss: {avg_loss:.4f}\")\n",
    "\n",
    "    # 在测试集上评估模型\n",
    "    model.eval()\n",
    "    with torch.no_grad():\n",
    "        y_pred = model(X_test_tensor)\n",
    "        loss = criterion(y_pred, y_test_tensor)\n",
    "\n",
    "    return loss.item()\n",
    "\n",
    "# 创建Optuna优化器\n",
    "study = optuna.create_study(direction=\"minimize\")\n",
    "study.optimize(objective, n_trials=100)\n",
    "\n",
    "# 输出最优超参数\n",
    "print(\"Best trial:\")\n",
    "trial = study.best_trial\n",
    "print(f\"  Value: {trial.value}\")\n",
    "print(f\"  Params: {trial.params}\")"
   ],
   "id": "79599f6c0934609c",
   "outputs": [
    {
     "name": "stderr",
     "output_type": "stream",
     "text": [
      "[I 2025-03-12 19:20:56,661] A new study created in memory with name: no-name-c8fb1ef0-3a5b-494e-95ef-7b269727dee1\n"
     ]
    },
    {
     "name": "stdout",
     "output_type": "stream",
     "text": [
      "Epoch [50/1000], Loss: 49.1597\n",
      "Epoch [100/1000], Loss: 41.3018\n",
      "Epoch [150/1000], Loss: 35.1352\n",
      "Epoch [200/1000], Loss: 31.1736\n",
      "Epoch [250/1000], Loss: 22.9922\n",
      "Epoch [300/1000], Loss: 21.2510\n",
      "Epoch [350/1000], Loss: 21.1679\n",
      "Epoch [400/1000], Loss: 20.0347\n",
      "Epoch [450/1000], Loss: 15.3522\n",
      "Epoch [500/1000], Loss: 15.3839\n",
      "Epoch [550/1000], Loss: 12.7022\n",
      "Epoch [600/1000], Loss: 12.5685\n",
      "Epoch [650/1000], Loss: 10.9689\n",
      "Epoch [700/1000], Loss: 11.7634\n",
      "Epoch [750/1000], Loss: 10.4209\n",
      "Epoch [800/1000], Loss: 10.0574\n",
      "Epoch [850/1000], Loss: 8.7833\n",
      "Epoch [900/1000], Loss: 10.7470\n",
      "Epoch [950/1000], Loss: 8.7950\n"
     ]
    },
    {
     "name": "stderr",
     "output_type": "stream",
     "text": [
      "[I 2025-03-12 19:21:19,793] Trial 0 finished with value: 20.860591888427734 and parameters: {'num_layers': 4, 'num_units_0': 82, 'num_units_1': 65, 'num_units_2': 64, 'num_units_3': 83}. Best is trial 0 with value: 20.860591888427734.\n"
     ]
    },
    {
     "name": "stdout",
     "output_type": "stream",
     "text": [
      "Epoch [1000/1000], Loss: 8.6052\n",
      "Epoch [50/1000], Loss: 49.1181\n",
      "Epoch [100/1000], Loss: 39.4044\n",
      "Epoch [150/1000], Loss: 34.2439\n",
      "Epoch [200/1000], Loss: 29.3889\n",
      "Epoch [250/1000], Loss: 25.7302\n",
      "Epoch [300/1000], Loss: 23.0474\n",
      "Epoch [350/1000], Loss: 21.5791\n",
      "Epoch [400/1000], Loss: 19.8034\n",
      "Epoch [450/1000], Loss: 17.5466\n",
      "Epoch [500/1000], Loss: 16.6926\n",
      "Epoch [550/1000], Loss: 15.1142\n",
      "Epoch [600/1000], Loss: 16.4807\n",
      "Epoch [650/1000], Loss: 14.1499\n",
      "Epoch [700/1000], Loss: 14.7404\n",
      "Epoch [750/1000], Loss: 13.0082\n",
      "Epoch [800/1000], Loss: 12.6437\n",
      "Epoch [850/1000], Loss: 11.9381\n",
      "Epoch [900/1000], Loss: 12.4344\n",
      "Epoch [950/1000], Loss: 11.2997\n"
     ]
    },
    {
     "name": "stderr",
     "output_type": "stream",
     "text": [
      "[I 2025-03-12 19:21:38,440] Trial 1 finished with value: 21.84808349609375 and parameters: {'num_layers': 3, 'num_units_0': 104, 'num_units_1': 25, 'num_units_2': 110}. Best is trial 0 with value: 20.860591888427734.\n"
     ]
    },
    {
     "name": "stdout",
     "output_type": "stream",
     "text": [
      "Epoch [1000/1000], Loss: 12.5972\n",
      "Epoch [50/1000], Loss: 46.2271\n",
      "Epoch [100/1000], Loss: 34.3432\n",
      "Epoch [150/1000], Loss: 27.7708\n",
      "Epoch [200/1000], Loss: 23.3238\n",
      "Epoch [250/1000], Loss: 20.4076\n",
      "Epoch [300/1000], Loss: 16.7447\n",
      "Epoch [350/1000], Loss: 14.2630\n",
      "Epoch [400/1000], Loss: 13.9658\n",
      "Epoch [450/1000], Loss: 12.7113\n",
      "Epoch [500/1000], Loss: 12.0810\n",
      "Epoch [550/1000], Loss: 10.1058\n",
      "Epoch [600/1000], Loss: 12.1481\n",
      "Epoch [650/1000], Loss: 10.1268\n",
      "Epoch [700/1000], Loss: 9.5687\n",
      "Epoch [750/1000], Loss: 8.2804\n",
      "Epoch [800/1000], Loss: 7.9723\n",
      "Epoch [850/1000], Loss: 9.2271\n",
      "Epoch [900/1000], Loss: 7.2726\n",
      "Epoch [950/1000], Loss: 7.0968\n"
     ]
    },
    {
     "name": "stderr",
     "output_type": "stream",
     "text": [
      "[I 2025-03-12 19:22:02,751] Trial 2 finished with value: 18.420368194580078 and parameters: {'num_layers': 6, 'num_units_0': 117, 'num_units_1': 44, 'num_units_2': 87, 'num_units_3': 70, 'num_units_4': 123, 'num_units_5': 15}. Best is trial 2 with value: 18.420368194580078.\n"
     ]
    },
    {
     "name": "stdout",
     "output_type": "stream",
     "text": [
      "Epoch [1000/1000], Loss: 6.5472\n",
      "Epoch [50/1000], Loss: 45.8835\n",
      "Epoch [100/1000], Loss: 37.5088\n",
      "Epoch [150/1000], Loss: 30.4783\n",
      "Epoch [200/1000], Loss: 27.1664\n",
      "Epoch [250/1000], Loss: 24.6248\n",
      "Epoch [300/1000], Loss: 22.3867\n",
      "Epoch [350/1000], Loss: 19.8567\n",
      "Epoch [400/1000], Loss: 22.1008\n",
      "Epoch [450/1000], Loss: 16.3304\n",
      "Epoch [500/1000], Loss: 13.8673\n",
      "Epoch [550/1000], Loss: 14.6411\n",
      "Epoch [600/1000], Loss: 11.3131\n",
      "Epoch [650/1000], Loss: 10.9340\n",
      "Epoch [700/1000], Loss: 10.6894\n",
      "Epoch [750/1000], Loss: 9.7816\n",
      "Epoch [800/1000], Loss: 9.4147\n",
      "Epoch [850/1000], Loss: 9.8809\n",
      "Epoch [900/1000], Loss: 8.8111\n",
      "Epoch [950/1000], Loss: 8.2353\n"
     ]
    },
    {
     "name": "stderr",
     "output_type": "stream",
     "text": [
      "[I 2025-03-12 19:22:24,927] Trial 3 finished with value: 18.42354393005371 and parameters: {'num_layers': 4, 'num_units_0': 13, 'num_units_1': 109, 'num_units_2': 66, 'num_units_3': 117}. Best is trial 2 with value: 18.420368194580078.\n"
     ]
    },
    {
     "name": "stdout",
     "output_type": "stream",
     "text": [
      "Epoch [1000/1000], Loss: 8.3658\n",
      "Epoch [50/1000], Loss: 49.5856\n",
      "Epoch [100/1000], Loss: 40.9862\n",
      "Epoch [150/1000], Loss: 34.1947\n",
      "Epoch [200/1000], Loss: 30.5117\n",
      "Epoch [250/1000], Loss: 25.5649\n",
      "Epoch [300/1000], Loss: 24.0177\n",
      "Epoch [350/1000], Loss: 22.4293\n",
      "Epoch [400/1000], Loss: 19.3262\n",
      "Epoch [450/1000], Loss: 18.5269\n",
      "Epoch [500/1000], Loss: 17.3671\n",
      "Epoch [550/1000], Loss: 16.9145\n",
      "Epoch [600/1000], Loss: 14.6666\n",
      "Epoch [650/1000], Loss: 13.3299\n",
      "Epoch [700/1000], Loss: 13.3063\n",
      "Epoch [750/1000], Loss: 13.5493\n",
      "Epoch [800/1000], Loss: 11.9816\n",
      "Epoch [850/1000], Loss: 11.5314\n",
      "Epoch [900/1000], Loss: 11.5959\n",
      "Epoch [950/1000], Loss: 10.9649\n"
     ]
    },
    {
     "name": "stderr",
     "output_type": "stream",
     "text": [
      "[I 2025-03-12 19:22:46,265] Trial 4 finished with value: 22.11765480041504 and parameters: {'num_layers': 4, 'num_units_0': 82, 'num_units_1': 75, 'num_units_2': 7, 'num_units_3': 79}. Best is trial 2 with value: 18.420368194580078.\n"
     ]
    },
    {
     "name": "stdout",
     "output_type": "stream",
     "text": [
      "Epoch [1000/1000], Loss: 11.4327\n",
      "Epoch [50/1000], Loss: 45.1236\n",
      "Epoch [100/1000], Loss: 37.3865\n",
      "Epoch [150/1000], Loss: 31.6456\n",
      "Epoch [200/1000], Loss: 26.6690\n",
      "Epoch [250/1000], Loss: 23.4181\n",
      "Epoch [300/1000], Loss: 16.2805\n",
      "Epoch [350/1000], Loss: 15.0785\n",
      "Epoch [400/1000], Loss: 15.4733\n",
      "Epoch [450/1000], Loss: 11.9216\n",
      "Epoch [500/1000], Loss: 11.2382\n",
      "Epoch [550/1000], Loss: 12.5301\n",
      "Epoch [600/1000], Loss: 9.5896\n",
      "Epoch [650/1000], Loss: 9.3681\n",
      "Epoch [700/1000], Loss: 8.9537\n",
      "Epoch [750/1000], Loss: 7.9027\n",
      "Epoch [800/1000], Loss: 7.2834\n",
      "Epoch [850/1000], Loss: 8.9388\n",
      "Epoch [900/1000], Loss: 7.8547\n",
      "Epoch [950/1000], Loss: 7.2225\n"
     ]
    },
    {
     "name": "stderr",
     "output_type": "stream",
     "text": [
      "[I 2025-03-12 19:23:12,728] Trial 5 finished with value: 23.20310401916504 and parameters: {'num_layers': 6, 'num_units_0': 27, 'num_units_1': 49, 'num_units_2': 84, 'num_units_3': 119, 'num_units_4': 97, 'num_units_5': 95}. Best is trial 2 with value: 18.420368194580078.\n"
     ]
    },
    {
     "name": "stdout",
     "output_type": "stream",
     "text": [
      "Epoch [1000/1000], Loss: 7.5030\n",
      "Epoch [50/1000], Loss: 51.1691\n",
      "Epoch [100/1000], Loss: 44.6205\n",
      "Epoch [150/1000], Loss: 42.1104\n",
      "Epoch [200/1000], Loss: 34.3038\n",
      "Epoch [250/1000], Loss: 30.6973\n",
      "Epoch [300/1000], Loss: 29.1309\n",
      "Epoch [350/1000], Loss: 26.5959\n",
      "Epoch [400/1000], Loss: 24.3614\n",
      "Epoch [450/1000], Loss: 21.9087\n",
      "Epoch [500/1000], Loss: 21.2879\n",
      "Epoch [550/1000], Loss: 19.3723\n",
      "Epoch [600/1000], Loss: 18.5974\n",
      "Epoch [650/1000], Loss: 17.0603\n",
      "Epoch [700/1000], Loss: 18.3598\n",
      "Epoch [750/1000], Loss: 16.2640\n",
      "Epoch [800/1000], Loss: 14.5035\n",
      "Epoch [850/1000], Loss: 13.9766\n",
      "Epoch [900/1000], Loss: 13.8849\n",
      "Epoch [950/1000], Loss: 13.3230\n"
     ]
    },
    {
     "name": "stderr",
     "output_type": "stream",
     "text": [
      "[I 2025-03-12 19:23:32,562] Trial 6 finished with value: 29.455455780029297 and parameters: {'num_layers': 3, 'num_units_0': 38, 'num_units_1': 98, 'num_units_2': 28}. Best is trial 2 with value: 18.420368194580078.\n"
     ]
    },
    {
     "name": "stdout",
     "output_type": "stream",
     "text": [
      "Epoch [1000/1000], Loss: 13.7603\n",
      "Epoch [50/1000], Loss: 49.8486\n",
      "Epoch [100/1000], Loss: 44.1456\n",
      "Epoch [150/1000], Loss: 41.1018\n",
      "Epoch [200/1000], Loss: 36.5388\n",
      "Epoch [250/1000], Loss: 34.7452\n",
      "Epoch [300/1000], Loss: 31.4709\n",
      "Epoch [350/1000], Loss: 29.7702\n",
      "Epoch [400/1000], Loss: 28.2317\n",
      "Epoch [450/1000], Loss: 26.5082\n",
      "Epoch [500/1000], Loss: 24.3073\n",
      "Epoch [550/1000], Loss: 22.7600\n",
      "Epoch [600/1000], Loss: 22.0607\n",
      "Epoch [650/1000], Loss: 20.3379\n",
      "Epoch [700/1000], Loss: 20.2781\n",
      "Epoch [750/1000], Loss: 18.3981\n",
      "Epoch [800/1000], Loss: 17.9226\n",
      "Epoch [850/1000], Loss: 18.1071\n",
      "Epoch [900/1000], Loss: 16.6423\n",
      "Epoch [950/1000], Loss: 17.0286\n"
     ]
    },
    {
     "name": "stderr",
     "output_type": "stream",
     "text": [
      "[I 2025-03-12 19:23:52,852] Trial 7 finished with value: 26.17611312866211 and parameters: {'num_layers': 3, 'num_units_0': 57, 'num_units_1': 128, 'num_units_2': 29}. Best is trial 2 with value: 18.420368194580078.\n"
     ]
    },
    {
     "name": "stdout",
     "output_type": "stream",
     "text": [
      "Epoch [1000/1000], Loss: 15.1203\n",
      "Epoch [50/1000], Loss: 46.4865\n",
      "Epoch [100/1000], Loss: 36.4714\n",
      "Epoch [150/1000], Loss: 28.1062\n",
      "Epoch [200/1000], Loss: 22.6866\n",
      "Epoch [250/1000], Loss: 17.1978\n",
      "Epoch [300/1000], Loss: 13.6415\n",
      "Epoch [350/1000], Loss: 13.8851\n",
      "Epoch [400/1000], Loss: 11.6152\n",
      "Epoch [450/1000], Loss: 11.3661\n",
      "Epoch [500/1000], Loss: 8.6022\n",
      "Epoch [550/1000], Loss: 9.1840\n",
      "Epoch [600/1000], Loss: 8.1243\n",
      "Epoch [650/1000], Loss: 7.0207\n",
      "Epoch [700/1000], Loss: 6.8971\n",
      "Epoch [750/1000], Loss: 6.8327\n",
      "Epoch [800/1000], Loss: 9.1279\n",
      "Epoch [850/1000], Loss: 6.6227\n",
      "Epoch [900/1000], Loss: 6.7931\n",
      "Epoch [950/1000], Loss: 6.8150\n"
     ]
    },
    {
     "name": "stderr",
     "output_type": "stream",
     "text": [
      "[I 2025-03-12 19:24:21,140] Trial 8 finished with value: 20.46099090576172 and parameters: {'num_layers': 6, 'num_units_0': 98, 'num_units_1': 107, 'num_units_2': 57, 'num_units_3': 78, 'num_units_4': 65, 'num_units_5': 18}. Best is trial 2 with value: 18.420368194580078.\n"
     ]
    },
    {
     "name": "stdout",
     "output_type": "stream",
     "text": [
      "Epoch [1000/1000], Loss: 4.9944\n",
      "Epoch [50/1000], Loss: 44.9659\n",
      "Epoch [100/1000], Loss: 36.6761\n",
      "Epoch [150/1000], Loss: 27.6048\n",
      "Epoch [200/1000], Loss: 22.8529\n",
      "Epoch [250/1000], Loss: 17.8685\n",
      "Epoch [300/1000], Loss: 14.8460\n",
      "Epoch [350/1000], Loss: 16.5323\n",
      "Epoch [400/1000], Loss: 13.1565\n",
      "Epoch [450/1000], Loss: 12.5188\n",
      "Epoch [500/1000], Loss: 11.1928\n",
      "Epoch [550/1000], Loss: 9.6488\n",
      "Epoch [600/1000], Loss: 10.8200\n",
      "Epoch [650/1000], Loss: 8.6883\n",
      "Epoch [700/1000], Loss: 8.2208\n",
      "Epoch [750/1000], Loss: 7.4252\n",
      "Epoch [800/1000], Loss: 9.4432\n",
      "Epoch [850/1000], Loss: 6.1302\n",
      "Epoch [900/1000], Loss: 6.2840\n",
      "Epoch [950/1000], Loss: 6.0184\n"
     ]
    },
    {
     "name": "stderr",
     "output_type": "stream",
     "text": [
      "[I 2025-03-12 19:24:45,824] Trial 9 finished with value: 15.569466590881348 and parameters: {'num_layers': 5, 'num_units_0': 105, 'num_units_1': 84, 'num_units_2': 106, 'num_units_3': 51, 'num_units_4': 120}. Best is trial 9 with value: 15.569466590881348.\n"
     ]
    },
    {
     "name": "stdout",
     "output_type": "stream",
     "text": [
      "Epoch [1000/1000], Loss: 6.2094\n",
      "Epoch [50/1000], Loss: 51.9431\n",
      "Epoch [100/1000], Loss: 45.0257\n",
      "Epoch [150/1000], Loss: 41.4141\n",
      "Epoch [200/1000], Loss: 37.7508\n",
      "Epoch [250/1000], Loss: 33.8288\n",
      "Epoch [300/1000], Loss: 31.8321\n",
      "Epoch [350/1000], Loss: 29.5527\n",
      "Epoch [400/1000], Loss: 26.7465\n",
      "Epoch [450/1000], Loss: 25.4498\n",
      "Epoch [500/1000], Loss: 25.0146\n",
      "Epoch [550/1000], Loss: 22.4127\n",
      "Epoch [600/1000], Loss: 21.4382\n",
      "Epoch [650/1000], Loss: 21.5322\n",
      "Epoch [700/1000], Loss: 22.5095\n",
      "Epoch [750/1000], Loss: 20.3802\n",
      "Epoch [800/1000], Loss: 19.1910\n",
      "Epoch [850/1000], Loss: 18.2859\n",
      "Epoch [900/1000], Loss: 21.7445\n",
      "Epoch [950/1000], Loss: 16.8462\n"
     ]
    },
    {
     "name": "stderr",
     "output_type": "stream",
     "text": [
      "[I 2025-03-12 19:25:10,328] Trial 10 finished with value: 30.174753189086914 and parameters: {'num_layers': 5, 'num_units_0': 124, 'num_units_1': 7, 'num_units_2': 124, 'num_units_3': 8, 'num_units_4': 18}. Best is trial 9 with value: 15.569466590881348.\n"
     ]
    },
    {
     "name": "stdout",
     "output_type": "stream",
     "text": [
      "Epoch [1000/1000], Loss: 16.5644\n",
      "Epoch [50/1000], Loss: 45.7404\n",
      "Epoch [100/1000], Loss: 33.2136\n",
      "Epoch [150/1000], Loss: 25.4840\n",
      "Epoch [200/1000], Loss: 21.8731\n",
      "Epoch [250/1000], Loss: 18.9588\n",
      "Epoch [300/1000], Loss: 17.5157\n",
      "Epoch [350/1000], Loss: 16.0432\n",
      "Epoch [400/1000], Loss: 13.9581\n",
      "Epoch [450/1000], Loss: 13.0837\n",
      "Epoch [500/1000], Loss: 13.0262\n",
      "Epoch [550/1000], Loss: 11.6547\n",
      "Epoch [600/1000], Loss: 10.6190\n",
      "Epoch [650/1000], Loss: 10.7100\n",
      "Epoch [700/1000], Loss: 8.7859\n",
      "Epoch [750/1000], Loss: 9.4041\n",
      "Epoch [800/1000], Loss: 8.5623\n",
      "Epoch [850/1000], Loss: 8.4468\n",
      "Epoch [900/1000], Loss: 8.7589\n",
      "Epoch [950/1000], Loss: 6.7523\n"
     ]
    },
    {
     "name": "stderr",
     "output_type": "stream",
     "text": [
      "[I 2025-03-12 19:25:35,140] Trial 11 finished with value: 16.88200569152832 and parameters: {'num_layers': 5, 'num_units_0': 127, 'num_units_1': 45, 'num_units_2': 96, 'num_units_3': 36, 'num_units_4': 126}. Best is trial 9 with value: 15.569466590881348.\n"
     ]
    },
    {
     "name": "stdout",
     "output_type": "stream",
     "text": [
      "Epoch [1000/1000], Loss: 9.3754\n",
      "Epoch [50/1000], Loss: 44.4478\n",
      "Epoch [100/1000], Loss: 32.9400\n",
      "Epoch [150/1000], Loss: 24.9775\n",
      "Epoch [200/1000], Loss: 22.6248\n",
      "Epoch [250/1000], Loss: 19.2799\n",
      "Epoch [300/1000], Loss: 16.3547\n",
      "Epoch [350/1000], Loss: 14.0740\n",
      "Epoch [400/1000], Loss: 12.1957\n",
      "Epoch [450/1000], Loss: 11.9616\n",
      "Epoch [500/1000], Loss: 10.6787\n",
      "Epoch [550/1000], Loss: 10.2121\n",
      "Epoch [600/1000], Loss: 9.4712\n",
      "Epoch [650/1000], Loss: 11.7851\n",
      "Epoch [700/1000], Loss: 8.4296\n",
      "Epoch [750/1000], Loss: 7.1285\n",
      "Epoch [800/1000], Loss: 6.9194\n",
      "Epoch [850/1000], Loss: 7.7193\n",
      "Epoch [900/1000], Loss: 8.8276\n",
      "Epoch [950/1000], Loss: 7.9958\n"
     ]
    },
    {
     "name": "stderr",
     "output_type": "stream",
     "text": [
      "[I 2025-03-12 19:25:58,204] Trial 12 finished with value: 19.491708755493164 and parameters: {'num_layers': 5, 'num_units_0': 128, 'num_units_1': 79, 'num_units_2': 102, 'num_units_3': 27, 'num_units_4': 126}. Best is trial 9 with value: 15.569466590881348.\n"
     ]
    },
    {
     "name": "stdout",
     "output_type": "stream",
     "text": [
      "Epoch [1000/1000], Loss: 6.4500\n",
      "Epoch [50/1000], Loss: 47.2964\n",
      "Epoch [100/1000], Loss: 37.3076\n",
      "Epoch [150/1000], Loss: 29.0434\n",
      "Epoch [200/1000], Loss: 25.0285\n",
      "Epoch [250/1000], Loss: 20.4861\n",
      "Epoch [300/1000], Loss: 16.5940\n",
      "Epoch [350/1000], Loss: 14.9048\n",
      "Epoch [400/1000], Loss: 13.6681\n",
      "Epoch [450/1000], Loss: 11.8529\n",
      "Epoch [500/1000], Loss: 11.4300\n",
      "Epoch [550/1000], Loss: 11.8055\n",
      "Epoch [600/1000], Loss: 9.0966\n",
      "Epoch [650/1000], Loss: 9.3108\n",
      "Epoch [700/1000], Loss: 9.1383\n",
      "Epoch [750/1000], Loss: 8.3016\n",
      "Epoch [800/1000], Loss: 8.1810\n",
      "Epoch [850/1000], Loss: 7.7766\n",
      "Epoch [900/1000], Loss: 7.4259\n",
      "Epoch [950/1000], Loss: 8.1659\n"
     ]
    },
    {
     "name": "stderr",
     "output_type": "stream",
     "text": [
      "[I 2025-03-12 19:26:19,786] Trial 13 finished with value: 17.03273582458496 and parameters: {'num_layers': 5, 'num_units_0': 100, 'num_units_1': 53, 'num_units_2': 127, 'num_units_3': 41, 'num_units_4': 86}. Best is trial 9 with value: 15.569466590881348.\n"
     ]
    },
    {
     "name": "stdout",
     "output_type": "stream",
     "text": [
      "Epoch [1000/1000], Loss: 6.0498\n",
      "Epoch [50/1000], Loss: 45.5277\n",
      "Epoch [100/1000], Loss: 37.2723\n",
      "Epoch [150/1000], Loss: 31.8207\n",
      "Epoch [200/1000], Loss: 22.7050\n",
      "Epoch [250/1000], Loss: 21.0052\n",
      "Epoch [300/1000], Loss: 19.3824\n",
      "Epoch [350/1000], Loss: 16.8248\n",
      "Epoch [400/1000], Loss: 15.5755\n",
      "Epoch [450/1000], Loss: 14.9589\n",
      "Epoch [500/1000], Loss: 13.0798\n",
      "Epoch [550/1000], Loss: 13.1417\n",
      "Epoch [600/1000], Loss: 12.1664\n",
      "Epoch [650/1000], Loss: 11.5604\n",
      "Epoch [700/1000], Loss: 10.0937\n",
      "Epoch [750/1000], Loss: 9.3607\n",
      "Epoch [800/1000], Loss: 8.5950\n",
      "Epoch [850/1000], Loss: 8.7112\n",
      "Epoch [900/1000], Loss: 7.2786\n",
      "Epoch [950/1000], Loss: 7.2514\n"
     ]
    },
    {
     "name": "stderr",
     "output_type": "stream",
     "text": [
      "[I 2025-03-12 19:26:40,503] Trial 14 finished with value: 19.961240768432617 and parameters: {'num_layers': 5, 'num_units_0': 78, 'num_units_1': 30, 'num_units_2': 91, 'num_units_3': 45, 'num_units_4': 128}. Best is trial 9 with value: 15.569466590881348.\n"
     ]
    },
    {
     "name": "stdout",
     "output_type": "stream",
     "text": [
      "Epoch [1000/1000], Loss: 7.1348\n",
      "Epoch [50/1000], Loss: 43.3490\n",
      "Epoch [100/1000], Loss: 33.1860\n",
      "Epoch [150/1000], Loss: 27.2794\n",
      "Epoch [200/1000], Loss: 21.9205\n",
      "Epoch [250/1000], Loss: 19.2394\n",
      "Epoch [300/1000], Loss: 16.8159\n",
      "Epoch [350/1000], Loss: 13.6667\n",
      "Epoch [400/1000], Loss: 12.6820\n",
      "Epoch [450/1000], Loss: 12.2159\n",
      "Epoch [500/1000], Loss: 11.1879\n",
      "Epoch [550/1000], Loss: 9.9493\n",
      "Epoch [600/1000], Loss: 11.4324\n",
      "Epoch [650/1000], Loss: 8.3005\n",
      "Epoch [700/1000], Loss: 7.4688\n",
      "Epoch [750/1000], Loss: 6.5751\n",
      "Epoch [800/1000], Loss: 8.4290\n",
      "Epoch [850/1000], Loss: 6.1506\n",
      "Epoch [900/1000], Loss: 6.2753\n",
      "Epoch [950/1000], Loss: 7.5565\n"
     ]
    },
    {
     "name": "stderr",
     "output_type": "stream",
     "text": [
      "[I 2025-03-12 19:27:01,740] Trial 15 finished with value: 16.37063980102539 and parameters: {'num_layers': 5, 'num_units_0': 110, 'num_units_1': 91, 'num_units_2': 108, 'num_units_3': 51, 'num_units_4': 94}. Best is trial 9 with value: 15.569466590881348.\n"
     ]
    },
    {
     "name": "stdout",
     "output_type": "stream",
     "text": [
      "Epoch [1000/1000], Loss: 5.5777\n",
      "Epoch [50/1000], Loss: 46.7347\n",
      "Epoch [100/1000], Loss: 40.1087\n",
      "Epoch [150/1000], Loss: 32.2684\n",
      "Epoch [200/1000], Loss: 27.9729\n",
      "Epoch [250/1000], Loss: 23.8742\n",
      "Epoch [300/1000], Loss: 22.2852\n",
      "Epoch [350/1000], Loss: 18.3916\n",
      "Epoch [400/1000], Loss: 16.4394\n",
      "Epoch [450/1000], Loss: 13.6122\n",
      "Epoch [500/1000], Loss: 12.8933\n",
      "Epoch [550/1000], Loss: 12.8345\n",
      "Epoch [600/1000], Loss: 11.4093\n",
      "Epoch [650/1000], Loss: 10.5172\n",
      "Epoch [700/1000], Loss: 10.6487\n",
      "Epoch [750/1000], Loss: 10.1868\n",
      "Epoch [800/1000], Loss: 8.1885\n",
      "Epoch [850/1000], Loss: 8.6898\n",
      "Epoch [900/1000], Loss: 8.9303\n",
      "Epoch [950/1000], Loss: 8.0414\n"
     ]
    },
    {
     "name": "stderr",
     "output_type": "stream",
     "text": [
      "[I 2025-03-12 19:27:23,210] Trial 16 finished with value: 17.79250144958496 and parameters: {'num_layers': 4, 'num_units_0': 64, 'num_units_1': 96, 'num_units_2': 112, 'num_units_3': 58}. Best is trial 9 with value: 15.569466590881348.\n"
     ]
    },
    {
     "name": "stdout",
     "output_type": "stream",
     "text": [
      "Epoch [1000/1000], Loss: 7.3351\n",
      "Epoch [50/1000], Loss: 45.8997\n",
      "Epoch [100/1000], Loss: 35.1882\n",
      "Epoch [150/1000], Loss: 29.2813\n",
      "Epoch [200/1000], Loss: 21.8030\n",
      "Epoch [250/1000], Loss: 17.0492\n",
      "Epoch [300/1000], Loss: 14.3157\n",
      "Epoch [350/1000], Loss: 15.3691\n",
      "Epoch [400/1000], Loss: 11.3404\n",
      "Epoch [450/1000], Loss: 9.5630\n",
      "Epoch [500/1000], Loss: 8.8398\n",
      "Epoch [550/1000], Loss: 7.8930\n",
      "Epoch [600/1000], Loss: 7.6498\n",
      "Epoch [650/1000], Loss: 7.5647\n",
      "Epoch [700/1000], Loss: 7.4536\n",
      "Epoch [750/1000], Loss: 6.1735\n",
      "Epoch [800/1000], Loss: 5.5786\n",
      "Epoch [850/1000], Loss: 5.3669\n",
      "Epoch [900/1000], Loss: 6.4988\n",
      "Epoch [950/1000], Loss: 5.4672\n"
     ]
    },
    {
     "name": "stderr",
     "output_type": "stream",
     "text": [
      "[I 2025-03-12 19:27:47,108] Trial 17 finished with value: 14.274311065673828 and parameters: {'num_layers': 6, 'num_units_0': 109, 'num_units_1': 86, 'num_units_2': 79, 'num_units_3': 15, 'num_units_4': 91, 'num_units_5': 122}. Best is trial 17 with value: 14.274311065673828.\n"
     ]
    },
    {
     "name": "stdout",
     "output_type": "stream",
     "text": [
      "Epoch [1000/1000], Loss: 4.8310\n",
      "Epoch [50/1000], Loss: 46.8789\n",
      "Epoch [100/1000], Loss: 38.1204\n",
      "Epoch [150/1000], Loss: 29.0809\n",
      "Epoch [200/1000], Loss: 23.4647\n",
      "Epoch [250/1000], Loss: 18.9727\n",
      "Epoch [300/1000], Loss: 17.1352\n",
      "Epoch [350/1000], Loss: 14.7521\n",
      "Epoch [400/1000], Loss: 12.8780\n",
      "Epoch [450/1000], Loss: 12.4321\n",
      "Epoch [500/1000], Loss: 10.7617\n",
      "Epoch [550/1000], Loss: 10.5121\n",
      "Epoch [600/1000], Loss: 10.1305\n",
      "Epoch [650/1000], Loss: 10.1846\n",
      "Epoch [700/1000], Loss: 8.7719\n",
      "Epoch [750/1000], Loss: 8.9050\n",
      "Epoch [800/1000], Loss: 9.0326\n",
      "Epoch [850/1000], Loss: 8.1311\n",
      "Epoch [900/1000], Loss: 7.9946\n",
      "Epoch [950/1000], Loss: 8.0483\n"
     ]
    },
    {
     "name": "stderr",
     "output_type": "stream",
     "text": [
      "[I 2025-03-12 19:28:12,411] Trial 18 finished with value: 21.731950759887695 and parameters: {'num_layers': 6, 'num_units_0': 92, 'num_units_1': 78, 'num_units_2': 79, 'num_units_3': 4, 'num_units_4': 59, 'num_units_5': 127}. Best is trial 17 with value: 14.274311065673828.\n"
     ]
    },
    {
     "name": "stdout",
     "output_type": "stream",
     "text": [
      "Epoch [1000/1000], Loss: 6.7969\n",
      "Epoch [50/1000], Loss: 46.4752\n",
      "Epoch [100/1000], Loss: 35.8956\n",
      "Epoch [150/1000], Loss: 28.4356\n",
      "Epoch [200/1000], Loss: 21.4899\n",
      "Epoch [250/1000], Loss: 16.8810\n",
      "Epoch [300/1000], Loss: 14.5892\n",
      "Epoch [350/1000], Loss: 13.9346\n",
      "Epoch [400/1000], Loss: 11.0878\n",
      "Epoch [450/1000], Loss: 10.6103\n",
      "Epoch [500/1000], Loss: 9.1538\n",
      "Epoch [550/1000], Loss: 9.4322\n",
      "Epoch [600/1000], Loss: 8.4049\n",
      "Epoch [650/1000], Loss: 6.8760\n",
      "Epoch [700/1000], Loss: 7.4032\n",
      "Epoch [750/1000], Loss: 7.3325\n",
      "Epoch [800/1000], Loss: 6.0818\n",
      "Epoch [850/1000], Loss: 6.4317\n",
      "Epoch [900/1000], Loss: 7.1558\n",
      "Epoch [950/1000], Loss: 5.4152\n"
     ]
    },
    {
     "name": "stderr",
     "output_type": "stream",
     "text": [
      "[I 2025-03-12 19:28:36,074] Trial 19 finished with value: 20.124670028686523 and parameters: {'num_layers': 6, 'num_units_0': 51, 'num_units_1': 127, 'num_units_2': 49, 'num_units_3': 21, 'num_units_4': 104, 'num_units_5': 72}. Best is trial 17 with value: 14.274311065673828.\n"
     ]
    },
    {
     "name": "stdout",
     "output_type": "stream",
     "text": [
      "Epoch [1000/1000], Loss: 5.3849\n",
      "Epoch [50/1000], Loss: 42.8625\n",
      "Epoch [100/1000], Loss: 31.9185\n",
      "Epoch [150/1000], Loss: 23.1832\n",
      "Epoch [200/1000], Loss: 17.2590\n",
      "Epoch [250/1000], Loss: 17.3266\n",
      "Epoch [300/1000], Loss: 13.2003\n",
      "Epoch [350/1000], Loss: 12.5050\n",
      "Epoch [400/1000], Loss: 10.5919\n",
      "Epoch [450/1000], Loss: 10.2402\n",
      "Epoch [500/1000], Loss: 9.7062\n",
      "Epoch [550/1000], Loss: 9.3346\n",
      "Epoch [600/1000], Loss: 7.0970\n",
      "Epoch [650/1000], Loss: 7.4704\n",
      "Epoch [700/1000], Loss: 7.8717\n",
      "Epoch [750/1000], Loss: 6.7898\n",
      "Epoch [800/1000], Loss: 6.0344\n",
      "Epoch [850/1000], Loss: 6.0701\n",
      "Epoch [900/1000], Loss: 4.8441\n",
      "Epoch [950/1000], Loss: 5.1149\n"
     ]
    },
    {
     "name": "stderr",
     "output_type": "stream",
     "text": [
      "[I 2025-03-12 19:28:58,787] Trial 20 finished with value: 17.5634765625 and parameters: {'num_layers': 6, 'num_units_0': 111, 'num_units_1': 62, 'num_units_2': 77, 'num_units_3': 103, 'num_units_4': 43, 'num_units_5': 117}. Best is trial 17 with value: 14.274311065673828.\n"
     ]
    },
    {
     "name": "stdout",
     "output_type": "stream",
     "text": [
      "Epoch [1000/1000], Loss: 4.6453\n",
      "Epoch [50/1000], Loss: 43.1854\n",
      "Epoch [100/1000], Loss: 33.8414\n",
      "Epoch [150/1000], Loss: 23.2694\n",
      "Epoch [200/1000], Loss: 21.1002\n",
      "Epoch [250/1000], Loss: 16.6052\n",
      "Epoch [300/1000], Loss: 14.3010\n",
      "Epoch [350/1000], Loss: 14.1045\n",
      "Epoch [400/1000], Loss: 12.0334\n",
      "Epoch [450/1000], Loss: 10.8261\n",
      "Epoch [500/1000], Loss: 8.8401\n",
      "Epoch [550/1000], Loss: 10.0172\n",
      "Epoch [600/1000], Loss: 8.5318\n",
      "Epoch [650/1000], Loss: 8.3619\n",
      "Epoch [700/1000], Loss: 7.3272\n",
      "Epoch [750/1000], Loss: 5.6496\n",
      "Epoch [800/1000], Loss: 7.4004\n",
      "Epoch [850/1000], Loss: 5.4850\n",
      "Epoch [900/1000], Loss: 6.6204\n",
      "Epoch [950/1000], Loss: 5.2283\n"
     ]
    },
    {
     "name": "stderr",
     "output_type": "stream",
     "text": [
      "[I 2025-03-12 19:29:21,997] Trial 21 finished with value: 16.08802604675293 and parameters: {'num_layers': 5, 'num_units_0': 107, 'num_units_1': 89, 'num_units_2': 110, 'num_units_3': 58, 'num_units_4': 87}. Best is trial 17 with value: 14.274311065673828.\n"
     ]
    },
    {
     "name": "stdout",
     "output_type": "stream",
     "text": [
      "Epoch [1000/1000], Loss: 5.6072\n",
      "Epoch [50/1000], Loss: 45.7846\n",
      "Epoch [100/1000], Loss: 36.7138\n",
      "Epoch [150/1000], Loss: 29.5160\n",
      "Epoch [200/1000], Loss: 23.8426\n",
      "Epoch [250/1000], Loss: 20.8206\n",
      "Epoch [300/1000], Loss: 17.5731\n",
      "Epoch [350/1000], Loss: 16.8004\n",
      "Epoch [400/1000], Loss: 15.8606\n",
      "Epoch [450/1000], Loss: 13.2822\n",
      "Epoch [500/1000], Loss: 11.8694\n",
      "Epoch [550/1000], Loss: 10.5952\n",
      "Epoch [600/1000], Loss: 8.6744\n",
      "Epoch [650/1000], Loss: 10.9759\n",
      "Epoch [700/1000], Loss: 7.8366\n",
      "Epoch [750/1000], Loss: 7.6762\n",
      "Epoch [800/1000], Loss: 7.5075\n",
      "Epoch [850/1000], Loss: 6.4990\n",
      "Epoch [900/1000], Loss: 6.8836\n",
      "Epoch [950/1000], Loss: 6.1767\n"
     ]
    },
    {
     "name": "stderr",
     "output_type": "stream",
     "text": [
      "[I 2025-03-12 19:29:46,725] Trial 22 finished with value: 17.327089309692383 and parameters: {'num_layers': 5, 'num_units_0': 93, 'num_units_1': 82, 'num_units_2': 118, 'num_units_3': 59, 'num_units_4': 80}. Best is trial 17 with value: 14.274311065673828.\n"
     ]
    },
    {
     "name": "stdout",
     "output_type": "stream",
     "text": [
      "Epoch [1000/1000], Loss: 6.6146\n",
      "Epoch [50/1000], Loss: 46.4483\n",
      "Epoch [100/1000], Loss: 39.1838\n",
      "Epoch [150/1000], Loss: 30.3811\n",
      "Epoch [200/1000], Loss: 25.5528\n",
      "Epoch [250/1000], Loss: 21.0484\n",
      "Epoch [300/1000], Loss: 17.4621\n",
      "Epoch [350/1000], Loss: 14.8278\n",
      "Epoch [400/1000], Loss: 13.1751\n",
      "Epoch [450/1000], Loss: 11.5129\n",
      "Epoch [500/1000], Loss: 10.3666\n",
      "Epoch [550/1000], Loss: 11.1849\n",
      "Epoch [600/1000], Loss: 9.4178\n",
      "Epoch [650/1000], Loss: 8.4336\n",
      "Epoch [700/1000], Loss: 8.2335\n",
      "Epoch [750/1000], Loss: 7.0273\n",
      "Epoch [800/1000], Loss: 7.9146\n",
      "Epoch [850/1000], Loss: 6.0402\n",
      "Epoch [900/1000], Loss: 6.7525\n",
      "Epoch [950/1000], Loss: 6.1205\n"
     ]
    },
    {
     "name": "stderr",
     "output_type": "stream",
     "text": [
      "[I 2025-03-12 19:30:11,949] Trial 23 finished with value: 17.919898986816406 and parameters: {'num_layers': 5, 'num_units_0': 73, 'num_units_1': 111, 'num_units_2': 101, 'num_units_3': 23, 'num_units_4': 109}. Best is trial 17 with value: 14.274311065673828.\n"
     ]
    },
    {
     "name": "stdout",
     "output_type": "stream",
     "text": [
      "Epoch [1000/1000], Loss: 5.8349\n",
      "Epoch [50/1000], Loss: 44.6432\n",
      "Epoch [100/1000], Loss: 36.2994\n",
      "Epoch [150/1000], Loss: 26.9105\n",
      "Epoch [200/1000], Loss: 23.4195\n",
      "Epoch [250/1000], Loss: 20.0837\n",
      "Epoch [300/1000], Loss: 14.5554\n",
      "Epoch [350/1000], Loss: 14.0350\n",
      "Epoch [400/1000], Loss: 11.1109\n",
      "Epoch [450/1000], Loss: 11.1649\n",
      "Epoch [500/1000], Loss: 9.5949\n",
      "Epoch [550/1000], Loss: 8.1934\n",
      "Epoch [600/1000], Loss: 8.5371\n",
      "Epoch [650/1000], Loss: 9.3687\n",
      "Epoch [700/1000], Loss: 6.6179\n",
      "Epoch [750/1000], Loss: 6.6408\n",
      "Epoch [800/1000], Loss: 5.8861\n",
      "Epoch [850/1000], Loss: 5.2161\n",
      "Epoch [900/1000], Loss: 6.4782\n",
      "Epoch [950/1000], Loss: 4.2627\n"
     ]
    },
    {
     "name": "stderr",
     "output_type": "stream",
     "text": [
      "[I 2025-03-12 19:30:39,108] Trial 24 finished with value: 17.19019317626953 and parameters: {'num_layers': 6, 'num_units_0': 115, 'num_units_1': 87, 'num_units_2': 70, 'num_units_3': 93, 'num_units_4': 77, 'num_units_5': 53}. Best is trial 17 with value: 14.274311065673828.\n"
     ]
    },
    {
     "name": "stdout",
     "output_type": "stream",
     "text": [
      "Epoch [1000/1000], Loss: 4.8660\n",
      "Epoch [50/1000], Loss: 45.1904\n",
      "Epoch [100/1000], Loss: 34.0675\n",
      "Epoch [150/1000], Loss: 29.9722\n",
      "Epoch [200/1000], Loss: 26.1311\n",
      "Epoch [250/1000], Loss: 21.0718\n",
      "Epoch [300/1000], Loss: 18.2636\n",
      "Epoch [350/1000], Loss: 16.7369\n",
      "Epoch [400/1000], Loss: 15.9113\n",
      "Epoch [450/1000], Loss: 15.7597\n",
      "Epoch [500/1000], Loss: 14.2442\n",
      "Epoch [550/1000], Loss: 13.8205\n",
      "Epoch [600/1000], Loss: 11.4990\n",
      "Epoch [650/1000], Loss: 10.8686\n",
      "Epoch [700/1000], Loss: 10.0363\n",
      "Epoch [750/1000], Loss: 10.0831\n",
      "Epoch [800/1000], Loss: 9.7154\n",
      "Epoch [850/1000], Loss: 9.5796\n",
      "Epoch [900/1000], Loss: 8.4224\n",
      "Epoch [950/1000], Loss: 7.6902\n"
     ]
    },
    {
     "name": "stderr",
     "output_type": "stream",
     "text": [
      "[I 2025-03-12 19:31:00,911] Trial 25 finished with value: 18.74993896484375 and parameters: {'num_layers': 4, 'num_units_0': 91, 'num_units_1': 69, 'num_units_2': 95, 'num_units_3': 64}. Best is trial 17 with value: 14.274311065673828.\n"
     ]
    },
    {
     "name": "stdout",
     "output_type": "stream",
     "text": [
      "Epoch [1000/1000], Loss: 7.1078\n",
      "Epoch [50/1000], Loss: 44.9823\n",
      "Epoch [100/1000], Loss: 35.7366\n",
      "Epoch [150/1000], Loss: 28.5990\n",
      "Epoch [200/1000], Loss: 20.9853\n",
      "Epoch [250/1000], Loss: 19.2677\n",
      "Epoch [300/1000], Loss: 16.7547\n",
      "Epoch [350/1000], Loss: 16.8804\n",
      "Epoch [400/1000], Loss: 12.9038\n",
      "Epoch [450/1000], Loss: 10.7109\n",
      "Epoch [500/1000], Loss: 10.2371\n",
      "Epoch [550/1000], Loss: 9.0722\n",
      "Epoch [600/1000], Loss: 8.5740\n",
      "Epoch [650/1000], Loss: 8.2424\n",
      "Epoch [700/1000], Loss: 8.5760\n",
      "Epoch [750/1000], Loss: 7.2746\n",
      "Epoch [800/1000], Loss: 6.8928\n",
      "Epoch [850/1000], Loss: 6.1147\n",
      "Epoch [900/1000], Loss: 7.1469\n",
      "Epoch [950/1000], Loss: 4.9301\n"
     ]
    },
    {
     "name": "stderr",
     "output_type": "stream",
     "text": [
      "[I 2025-03-12 19:31:24,530] Trial 26 finished with value: 17.70071792602539 and parameters: {'num_layers': 5, 'num_units_0': 106, 'num_units_1': 100, 'num_units_2': 116, 'num_units_3': 29, 'num_units_4': 112}. Best is trial 17 with value: 14.274311065673828.\n"
     ]
    },
    {
     "name": "stdout",
     "output_type": "stream",
     "text": [
      "Epoch [1000/1000], Loss: 5.0120\n",
      "Epoch [50/1000], Loss: 46.2621\n",
      "Epoch [100/1000], Loss: 38.3927\n",
      "Epoch [150/1000], Loss: 30.3056\n",
      "Epoch [200/1000], Loss: 23.9847\n",
      "Epoch [250/1000], Loss: 22.2146\n",
      "Epoch [300/1000], Loss: 18.6987\n",
      "Epoch [350/1000], Loss: 15.6662\n",
      "Epoch [400/1000], Loss: 12.1859\n",
      "Epoch [450/1000], Loss: 12.0174\n",
      "Epoch [500/1000], Loss: 12.0919\n",
      "Epoch [550/1000], Loss: 10.3030\n",
      "Epoch [600/1000], Loss: 11.6648\n",
      "Epoch [650/1000], Loss: 9.8781\n",
      "Epoch [700/1000], Loss: 8.5227\n",
      "Epoch [750/1000], Loss: 7.6744\n",
      "Epoch [800/1000], Loss: 7.4853\n",
      "Epoch [850/1000], Loss: 7.1224\n",
      "Epoch [900/1000], Loss: 7.9520\n",
      "Epoch [950/1000], Loss: 7.1548\n"
     ]
    },
    {
     "name": "stderr",
     "output_type": "stream",
     "text": [
      "[I 2025-03-12 19:31:51,698] Trial 27 finished with value: 18.295074462890625 and parameters: {'num_layers': 6, 'num_units_0': 119, 'num_units_1': 117, 'num_units_2': 48, 'num_units_3': 14, 'num_units_4': 47, 'num_units_5': 89}. Best is trial 17 with value: 14.274311065673828.\n"
     ]
    },
    {
     "name": "stdout",
     "output_type": "stream",
     "text": [
      "Epoch [1000/1000], Loss: 6.3686\n",
      "Epoch [50/1000], Loss: 47.3875\n",
      "Epoch [100/1000], Loss: 36.1051\n",
      "Epoch [150/1000], Loss: 28.6845\n",
      "Epoch [200/1000], Loss: 21.1588\n",
      "Epoch [250/1000], Loss: 17.1812\n",
      "Epoch [300/1000], Loss: 13.3673\n",
      "Epoch [350/1000], Loss: 12.4911\n",
      "Epoch [400/1000], Loss: 11.0248\n",
      "Epoch [450/1000], Loss: 10.7572\n",
      "Epoch [500/1000], Loss: 10.1661\n",
      "Epoch [550/1000], Loss: 9.4238\n",
      "Epoch [600/1000], Loss: 10.9402\n",
      "Epoch [650/1000], Loss: 8.4127\n",
      "Epoch [700/1000], Loss: 7.5455\n",
      "Epoch [750/1000], Loss: 7.0871\n",
      "Epoch [800/1000], Loss: 10.3628\n",
      "Epoch [850/1000], Loss: 7.4136\n",
      "Epoch [900/1000], Loss: 7.5244\n",
      "Epoch [950/1000], Loss: 7.7315\n"
     ]
    },
    {
     "name": "stderr",
     "output_type": "stream",
     "text": [
      "[I 2025-03-12 19:32:17,131] Trial 28 finished with value: 19.10728645324707 and parameters: {'num_layers': 5, 'num_units_0': 87, 'num_units_1': 86, 'num_units_2': 101, 'num_units_3': 51, 'num_units_4': 87}. Best is trial 17 with value: 14.274311065673828.\n"
     ]
    },
    {
     "name": "stdout",
     "output_type": "stream",
     "text": [
      "Epoch [1000/1000], Loss: 6.8181\n",
      "Epoch [50/1000], Loss: 49.4337\n",
      "Epoch [100/1000], Loss: 41.6266\n",
      "Epoch [150/1000], Loss: 33.4419\n",
      "Epoch [200/1000], Loss: 32.3906\n",
      "Epoch [250/1000], Loss: 26.0431\n",
      "Epoch [300/1000], Loss: 24.1755\n",
      "Epoch [350/1000], Loss: 20.8919\n",
      "Epoch [400/1000], Loss: 18.9250\n",
      "Epoch [450/1000], Loss: 16.5697\n",
      "Epoch [500/1000], Loss: 14.9159\n",
      "Epoch [550/1000], Loss: 13.7422\n",
      "Epoch [600/1000], Loss: 14.5906\n",
      "Epoch [650/1000], Loss: 11.3895\n",
      "Epoch [700/1000], Loss: 11.3263\n",
      "Epoch [750/1000], Loss: 10.3455\n",
      "Epoch [800/1000], Loss: 9.7827\n",
      "Epoch [850/1000], Loss: 10.2386\n",
      "Epoch [900/1000], Loss: 10.1420\n",
      "Epoch [950/1000], Loss: 8.4801\n"
     ]
    },
    {
     "name": "stderr",
     "output_type": "stream",
     "text": [
      "[I 2025-03-12 19:32:38,360] Trial 29 finished with value: 16.584508895874023 and parameters: {'num_layers': 4, 'num_units_0': 71, 'num_units_1': 60, 'num_units_2': 78, 'num_units_3': 34}. Best is trial 17 with value: 14.274311065673828.\n"
     ]
    },
    {
     "name": "stdout",
     "output_type": "stream",
     "text": [
      "Epoch [1000/1000], Loss: 8.6041\n",
      "Epoch [50/1000], Loss: 46.4209\n",
      "Epoch [100/1000], Loss: 36.4674\n",
      "Epoch [150/1000], Loss: 28.7129\n",
      "Epoch [200/1000], Loss: 26.2542\n",
      "Epoch [250/1000], Loss: 21.2471\n",
      "Epoch [300/1000], Loss: 18.2477\n",
      "Epoch [350/1000], Loss: 15.5141\n",
      "Epoch [400/1000], Loss: 13.4240\n",
      "Epoch [450/1000], Loss: 12.2330\n",
      "Epoch [500/1000], Loss: 10.5730\n",
      "Epoch [550/1000], Loss: 9.2487\n",
      "Epoch [600/1000], Loss: 8.5815\n",
      "Epoch [650/1000], Loss: 8.1380\n",
      "Epoch [700/1000], Loss: 7.0889\n",
      "Epoch [750/1000], Loss: 6.7481\n",
      "Epoch [800/1000], Loss: 6.8203\n",
      "Epoch [850/1000], Loss: 6.5920\n",
      "Epoch [900/1000], Loss: 5.7008\n",
      "Epoch [950/1000], Loss: 5.9548\n"
     ]
    },
    {
     "name": "stderr",
     "output_type": "stream",
     "text": [
      "[I 2025-03-12 19:33:03,052] Trial 30 finished with value: 17.494108200073242 and parameters: {'num_layers': 6, 'num_units_0': 84, 'num_units_1': 69, 'num_units_2': 124, 'num_units_3': 16, 'num_units_4': 72, 'num_units_5': 49}. Best is trial 17 with value: 14.274311065673828.\n"
     ]
    },
    {
     "name": "stdout",
     "output_type": "stream",
     "text": [
      "Epoch [1000/1000], Loss: 5.0666\n",
      "Epoch [50/1000], Loss: 44.8909\n",
      "Epoch [100/1000], Loss: 37.4804\n",
      "Epoch [150/1000], Loss: 27.8930\n",
      "Epoch [200/1000], Loss: 23.1214\n",
      "Epoch [250/1000], Loss: 18.4654\n",
      "Epoch [300/1000], Loss: 15.8014\n",
      "Epoch [350/1000], Loss: 14.7443\n",
      "Epoch [400/1000], Loss: 12.7893\n",
      "Epoch [450/1000], Loss: 12.6923\n",
      "Epoch [500/1000], Loss: 11.3989\n",
      "Epoch [550/1000], Loss: 10.9364\n",
      "Epoch [600/1000], Loss: 10.9216\n",
      "Epoch [650/1000], Loss: 9.9574\n",
      "Epoch [700/1000], Loss: 8.7030\n",
      "Epoch [750/1000], Loss: 8.8563\n",
      "Epoch [800/1000], Loss: 7.1949\n",
      "Epoch [850/1000], Loss: 7.3394\n",
      "Epoch [900/1000], Loss: 7.1266\n",
      "Epoch [950/1000], Loss: 6.1527\n"
     ]
    },
    {
     "name": "stderr",
     "output_type": "stream",
     "text": [
      "[I 2025-03-12 19:33:27,338] Trial 31 finished with value: 19.215484619140625 and parameters: {'num_layers': 5, 'num_units_0': 110, 'num_units_1': 91, 'num_units_2': 107, 'num_units_3': 50, 'num_units_4': 96}. Best is trial 17 with value: 14.274311065673828.\n"
     ]
    },
    {
     "name": "stdout",
     "output_type": "stream",
     "text": [
      "Epoch [1000/1000], Loss: 6.5613\n",
      "Epoch [50/1000], Loss: 43.6707\n",
      "Epoch [100/1000], Loss: 31.3542\n",
      "Epoch [150/1000], Loss: 31.1930\n",
      "Epoch [200/1000], Loss: 17.3642\n",
      "Epoch [250/1000], Loss: 15.0108\n",
      "Epoch [300/1000], Loss: 11.8607\n",
      "Epoch [350/1000], Loss: 11.5227\n",
      "Epoch [400/1000], Loss: 10.9493\n",
      "Epoch [450/1000], Loss: 10.0993\n",
      "Epoch [500/1000], Loss: 8.5084\n",
      "Epoch [550/1000], Loss: 8.4715\n",
      "Epoch [600/1000], Loss: 7.0113\n",
      "Epoch [650/1000], Loss: 7.0008\n",
      "Epoch [700/1000], Loss: 5.8837\n",
      "Epoch [750/1000], Loss: 5.8984\n",
      "Epoch [800/1000], Loss: 5.1998\n",
      "Epoch [850/1000], Loss: 5.4862\n",
      "Epoch [900/1000], Loss: 5.3337\n",
      "Epoch [950/1000], Loss: 4.6357\n"
     ]
    },
    {
     "name": "stderr",
     "output_type": "stream",
     "text": [
      "[I 2025-03-12 19:33:52,085] Trial 32 finished with value: 16.5855712890625 and parameters: {'num_layers': 5, 'num_units_0': 106, 'num_units_1': 93, 'num_units_2': 107, 'num_units_3': 69, 'num_units_4': 93}. Best is trial 17 with value: 14.274311065673828.\n"
     ]
    },
    {
     "name": "stdout",
     "output_type": "stream",
     "text": [
      "Epoch [1000/1000], Loss: 6.0388\n",
      "Epoch [50/1000], Loss: 42.0396\n",
      "Epoch [100/1000], Loss: 31.7126\n",
      "Epoch [150/1000], Loss: 24.2926\n",
      "Epoch [200/1000], Loss: 21.1730\n",
      "Epoch [250/1000], Loss: 17.0558\n",
      "Epoch [300/1000], Loss: 15.1012\n",
      "Epoch [350/1000], Loss: 13.8009\n",
      "Epoch [400/1000], Loss: 11.0255\n",
      "Epoch [450/1000], Loss: 13.6776\n",
      "Epoch [500/1000], Loss: 11.1844\n",
      "Epoch [550/1000], Loss: 9.1812\n",
      "Epoch [600/1000], Loss: 9.9584\n",
      "Epoch [650/1000], Loss: 9.2038\n",
      "Epoch [700/1000], Loss: 8.1780\n",
      "Epoch [750/1000], Loss: 7.6400\n",
      "Epoch [800/1000], Loss: 6.8097\n",
      "Epoch [850/1000], Loss: 7.4388\n",
      "Epoch [900/1000], Loss: 6.0812\n",
      "Epoch [950/1000], Loss: 6.4280\n"
     ]
    },
    {
     "name": "stderr",
     "output_type": "stream",
     "text": [
      "[I 2025-03-12 19:34:16,600] Trial 33 finished with value: 18.46755027770996 and parameters: {'num_layers': 5, 'num_units_0': 101, 'num_units_1': 70, 'num_units_2': 117, 'num_units_3': 53, 'num_units_4': 112}. Best is trial 17 with value: 14.274311065673828.\n"
     ]
    },
    {
     "name": "stdout",
     "output_type": "stream",
     "text": [
      "Epoch [1000/1000], Loss: 6.1228\n",
      "Epoch [50/1000], Loss: 44.8000\n",
      "Epoch [100/1000], Loss: 35.1503\n",
      "Epoch [150/1000], Loss: 28.5510\n",
      "Epoch [200/1000], Loss: 24.9885\n",
      "Epoch [250/1000], Loss: 20.0033\n",
      "Epoch [300/1000], Loss: 17.2562\n",
      "Epoch [350/1000], Loss: 15.3210\n",
      "Epoch [400/1000], Loss: 13.5390\n",
      "Epoch [450/1000], Loss: 13.0527\n",
      "Epoch [500/1000], Loss: 10.1033\n",
      "Epoch [550/1000], Loss: 9.7752\n",
      "Epoch [600/1000], Loss: 10.4501\n",
      "Epoch [650/1000], Loss: 9.3041\n",
      "Epoch [700/1000], Loss: 8.2788\n",
      "Epoch [750/1000], Loss: 7.4093\n",
      "Epoch [800/1000], Loss: 7.4960\n",
      "Epoch [850/1000], Loss: 6.5159\n",
      "Epoch [900/1000], Loss: 6.7915\n",
      "Epoch [950/1000], Loss: 6.3757\n"
     ]
    },
    {
     "name": "stderr",
     "output_type": "stream",
     "text": [
      "[I 2025-03-12 19:34:38,232] Trial 34 finished with value: 20.999404907226562 and parameters: {'num_layers': 4, 'num_units_0': 116, 'num_units_1': 104, 'num_units_2': 88, 'num_units_3': 90}. Best is trial 17 with value: 14.274311065673828.\n"
     ]
    },
    {
     "name": "stdout",
     "output_type": "stream",
     "text": [
      "Epoch [1000/1000], Loss: 5.9865\n",
      "Epoch [50/1000], Loss: 45.3810\n",
      "Epoch [100/1000], Loss: 31.4827\n",
      "Epoch [150/1000], Loss: 25.8179\n",
      "Epoch [200/1000], Loss: 22.9952\n",
      "Epoch [250/1000], Loss: 18.2425\n",
      "Epoch [300/1000], Loss: 15.0060\n",
      "Epoch [350/1000], Loss: 11.6341\n",
      "Epoch [400/1000], Loss: 10.2054\n",
      "Epoch [450/1000], Loss: 9.7778\n",
      "Epoch [500/1000], Loss: 9.2073\n",
      "Epoch [550/1000], Loss: 7.8628\n",
      "Epoch [600/1000], Loss: 7.4972\n",
      "Epoch [650/1000], Loss: 8.5600\n",
      "Epoch [700/1000], Loss: 6.1749\n",
      "Epoch [750/1000], Loss: 6.2462\n",
      "Epoch [800/1000], Loss: 5.4192\n",
      "Epoch [850/1000], Loss: 4.9833\n",
      "Epoch [900/1000], Loss: 6.8688\n",
      "Epoch [950/1000], Loss: 5.2877\n"
     ]
    },
    {
     "name": "stderr",
     "output_type": "stream",
     "text": [
      "[I 2025-03-12 19:35:01,327] Trial 35 finished with value: 14.547788619995117 and parameters: {'num_layers': 5, 'num_units_0': 120, 'num_units_1': 90, 'num_units_2': 108, 'num_units_3': 74, 'num_units_4': 101}. Best is trial 17 with value: 14.274311065673828.\n"
     ]
    },
    {
     "name": "stdout",
     "output_type": "stream",
     "text": [
      "Epoch [1000/1000], Loss: 5.9988\n",
      "Epoch [50/1000], Loss: 42.9035\n",
      "Epoch [100/1000], Loss: 32.9915\n",
      "Epoch [150/1000], Loss: 25.2067\n",
      "Epoch [200/1000], Loss: 20.6423\n",
      "Epoch [250/1000], Loss: 17.0700\n",
      "Epoch [300/1000], Loss: 13.0482\n",
      "Epoch [350/1000], Loss: 10.6731\n",
      "Epoch [400/1000], Loss: 11.1026\n",
      "Epoch [450/1000], Loss: 10.8114\n",
      "Epoch [500/1000], Loss: 9.4616\n",
      "Epoch [550/1000], Loss: 7.3933\n",
      "Epoch [600/1000], Loss: 8.3072\n",
      "Epoch [650/1000], Loss: 8.1634\n",
      "Epoch [700/1000], Loss: 7.3989\n",
      "Epoch [750/1000], Loss: 6.4141\n",
      "Epoch [800/1000], Loss: 7.2474\n",
      "Epoch [850/1000], Loss: 7.2060\n",
      "Epoch [900/1000], Loss: 5.8107\n",
      "Epoch [950/1000], Loss: 6.7395\n"
     ]
    },
    {
     "name": "stderr",
     "output_type": "stream",
     "text": [
      "[I 2025-03-12 19:35:29,227] Trial 36 finished with value: 17.06561851501465 and parameters: {'num_layers': 6, 'num_units_0': 122, 'num_units_1': 75, 'num_units_2': 71, 'num_units_3': 74, 'num_units_4': 104, 'num_units_5': 104}. Best is trial 17 with value: 14.274311065673828.\n"
     ]
    },
    {
     "name": "stdout",
     "output_type": "stream",
     "text": [
      "Epoch [1000/1000], Loss: 4.9148\n",
      "Epoch [50/1000], Loss: 45.5043\n",
      "Epoch [100/1000], Loss: 30.9786\n",
      "Epoch [150/1000], Loss: 26.1233\n",
      "Epoch [200/1000], Loss: 21.4030\n",
      "Epoch [250/1000], Loss: 18.0349\n",
      "Epoch [300/1000], Loss: 14.9089\n",
      "Epoch [350/1000], Loss: 12.8806\n",
      "Epoch [400/1000], Loss: 11.3877\n",
      "Epoch [450/1000], Loss: 10.7701\n",
      "Epoch [500/1000], Loss: 9.6686\n",
      "Epoch [550/1000], Loss: 9.3094\n",
      "Epoch [600/1000], Loss: 10.0475\n",
      "Epoch [650/1000], Loss: 7.7654\n",
      "Epoch [700/1000], Loss: 6.8611\n",
      "Epoch [750/1000], Loss: 8.1447\n",
      "Epoch [800/1000], Loss: 5.9476\n",
      "Epoch [850/1000], Loss: 6.9675\n",
      "Epoch [900/1000], Loss: 5.7820\n",
      "Epoch [950/1000], Loss: 5.7465\n"
     ]
    },
    {
     "name": "stderr",
     "output_type": "stream",
     "text": [
      "[I 2025-03-12 19:35:52,195] Trial 37 finished with value: 15.961355209350586 and parameters: {'num_layers': 4, 'num_units_0': 98, 'num_units_1': 117, 'num_units_2': 94, 'num_units_3': 87}. Best is trial 17 with value: 14.274311065673828.\n"
     ]
    },
    {
     "name": "stdout",
     "output_type": "stream",
     "text": [
      "Epoch [1000/1000], Loss: 5.4643\n",
      "Epoch [50/1000], Loss: 46.1675\n",
      "Epoch [100/1000], Loss: 37.1723\n",
      "Epoch [150/1000], Loss: 29.7952\n",
      "Epoch [200/1000], Loss: 25.6081\n",
      "Epoch [250/1000], Loss: 23.1544\n",
      "Epoch [300/1000], Loss: 20.2081\n",
      "Epoch [350/1000], Loss: 17.9746\n",
      "Epoch [400/1000], Loss: 16.1469\n",
      "Epoch [450/1000], Loss: 14.5086\n",
      "Epoch [500/1000], Loss: 12.8786\n",
      "Epoch [550/1000], Loss: 12.1111\n",
      "Epoch [600/1000], Loss: 11.6609\n",
      "Epoch [650/1000], Loss: 10.2373\n",
      "Epoch [700/1000], Loss: 10.9180\n",
      "Epoch [750/1000], Loss: 9.8349\n",
      "Epoch [800/1000], Loss: 10.4041\n",
      "Epoch [850/1000], Loss: 9.8031\n",
      "Epoch [900/1000], Loss: 8.9492\n",
      "Epoch [950/1000], Loss: 8.2824\n"
     ]
    },
    {
     "name": "stderr",
     "output_type": "stream",
     "text": [
      "[I 2025-03-12 19:36:13,270] Trial 38 finished with value: 16.800439834594727 and parameters: {'num_layers': 3, 'num_units_0': 117, 'num_units_1': 117, 'num_units_2': 84}. Best is trial 17 with value: 14.274311065673828.\n"
     ]
    },
    {
     "name": "stdout",
     "output_type": "stream",
     "text": [
      "Epoch [1000/1000], Loss: 8.6574\n",
      "Epoch [50/1000], Loss: 46.7390\n",
      "Epoch [100/1000], Loss: 38.5225\n",
      "Epoch [150/1000], Loss: 36.3299\n",
      "Epoch [200/1000], Loss: 33.6037\n",
      "Epoch [250/1000], Loss: 32.8871\n",
      "Epoch [300/1000], Loss: 31.1810\n",
      "Epoch [350/1000], Loss: 29.8145\n",
      "Epoch [400/1000], Loss: 28.1996\n",
      "Epoch [450/1000], Loss: 26.1841\n",
      "Epoch [500/1000], Loss: 24.1866\n",
      "Epoch [550/1000], Loss: 22.7440\n",
      "Epoch [600/1000], Loss: 21.2976\n",
      "Epoch [650/1000], Loss: 21.6488\n",
      "Epoch [700/1000], Loss: 18.5832\n",
      "Epoch [750/1000], Loss: 17.6354\n",
      "Epoch [800/1000], Loss: 17.0375\n",
      "Epoch [850/1000], Loss: 15.8339\n",
      "Epoch [900/1000], Loss: 14.9814\n",
      "Epoch [950/1000], Loss: 14.7264\n"
     ]
    },
    {
     "name": "stderr",
     "output_type": "stream",
     "text": [
      "[I 2025-03-12 19:36:36,256] Trial 39 finished with value: 22.903772354125977 and parameters: {'num_layers': 4, 'num_units_0': 8, 'num_units_1': 117, 'num_units_2': 59, 'num_units_3': 110}. Best is trial 17 with value: 14.274311065673828.\n"
     ]
    },
    {
     "name": "stdout",
     "output_type": "stream",
     "text": [
      "Epoch [1000/1000], Loss: 13.8955\n",
      "Epoch [50/1000], Loss: 44.2780\n",
      "Epoch [100/1000], Loss: 35.4241\n",
      "Epoch [150/1000], Loss: 28.3772\n",
      "Epoch [200/1000], Loss: 22.2041\n",
      "Epoch [250/1000], Loss: 18.4474\n",
      "Epoch [300/1000], Loss: 15.5111\n",
      "Epoch [350/1000], Loss: 13.4484\n",
      "Epoch [400/1000], Loss: 12.1903\n",
      "Epoch [450/1000], Loss: 11.0414\n",
      "Epoch [500/1000], Loss: 11.2689\n",
      "Epoch [550/1000], Loss: 8.8519\n",
      "Epoch [600/1000], Loss: 10.3208\n",
      "Epoch [650/1000], Loss: 7.0549\n",
      "Epoch [700/1000], Loss: 7.7219\n",
      "Epoch [750/1000], Loss: 6.9749\n",
      "Epoch [800/1000], Loss: 5.4602\n",
      "Epoch [850/1000], Loss: 6.1590\n",
      "Epoch [900/1000], Loss: 6.9107\n",
      "Epoch [950/1000], Loss: 5.4162\n"
     ]
    },
    {
     "name": "stderr",
     "output_type": "stream",
     "text": [
      "[I 2025-03-12 19:36:57,985] Trial 40 finished with value: 16.64247703552246 and parameters: {'num_layers': 4, 'num_units_0': 97, 'num_units_1': 101, 'num_units_2': 94, 'num_units_3': 128}. Best is trial 17 with value: 14.274311065673828.\n"
     ]
    },
    {
     "name": "stdout",
     "output_type": "stream",
     "text": [
      "Epoch [1000/1000], Loss: 5.5955\n",
      "Epoch [50/1000], Loss: 44.9003\n",
      "Epoch [100/1000], Loss: 35.9525\n",
      "Epoch [150/1000], Loss: 27.7193\n",
      "Epoch [200/1000], Loss: 23.2558\n",
      "Epoch [250/1000], Loss: 18.9650\n",
      "Epoch [300/1000], Loss: 16.4733\n",
      "Epoch [350/1000], Loss: 12.5022\n",
      "Epoch [400/1000], Loss: 11.4923\n",
      "Epoch [450/1000], Loss: 10.4582\n",
      "Epoch [500/1000], Loss: 9.4879\n",
      "Epoch [550/1000], Loss: 9.0116\n",
      "Epoch [600/1000], Loss: 9.1787\n",
      "Epoch [650/1000], Loss: 8.2351\n",
      "Epoch [700/1000], Loss: 6.9674\n",
      "Epoch [750/1000], Loss: 6.7283\n",
      "Epoch [800/1000], Loss: 6.8146\n",
      "Epoch [850/1000], Loss: 6.2956\n",
      "Epoch [900/1000], Loss: 5.6182\n",
      "Epoch [950/1000], Loss: 5.6964\n"
     ]
    },
    {
     "name": "stderr",
     "output_type": "stream",
     "text": [
      "[I 2025-03-12 19:37:19,778] Trial 41 finished with value: 16.280799865722656 and parameters: {'num_layers': 4, 'num_units_0': 105, 'num_units_1': 85, 'num_units_2': 99, 'num_units_3': 91}. Best is trial 17 with value: 14.274311065673828.\n"
     ]
    },
    {
     "name": "stdout",
     "output_type": "stream",
     "text": [
      "Epoch [1000/1000], Loss: 4.7268\n",
      "Epoch [50/1000], Loss: 47.9153\n",
      "Epoch [100/1000], Loss: 40.5526\n",
      "Epoch [150/1000], Loss: 35.1389\n",
      "Epoch [200/1000], Loss: 28.6494\n",
      "Epoch [250/1000], Loss: 25.6497\n",
      "Epoch [300/1000], Loss: 22.4035\n",
      "Epoch [350/1000], Loss: 20.5546\n",
      "Epoch [400/1000], Loss: 19.5854\n",
      "Epoch [450/1000], Loss: 17.8315\n",
      "Epoch [500/1000], Loss: 16.1967\n",
      "Epoch [550/1000], Loss: 16.0086\n",
      "Epoch [600/1000], Loss: 13.7308\n",
      "Epoch [650/1000], Loss: 12.6867\n",
      "Epoch [700/1000], Loss: 12.7860\n",
      "Epoch [750/1000], Loss: 11.3015\n",
      "Epoch [800/1000], Loss: 10.3043\n",
      "Epoch [850/1000], Loss: 11.6232\n",
      "Epoch [900/1000], Loss: 10.2624\n",
      "Epoch [950/1000], Loss: 9.2555\n"
     ]
    },
    {
     "name": "stderr",
     "output_type": "stream",
     "text": [
      "[I 2025-03-12 19:37:40,334] Trial 42 finished with value: 18.538429260253906 and parameters: {'num_layers': 3, 'num_units_0': 112, 'num_units_1': 111, 'num_units_2': 83}. Best is trial 17 with value: 14.274311065673828.\n"
     ]
    },
    {
     "name": "stdout",
     "output_type": "stream",
     "text": [
      "Epoch [1000/1000], Loss: 8.5982\n",
      "Epoch [50/1000], Loss: 45.1228\n",
      "Epoch [100/1000], Loss: 34.7013\n",
      "Epoch [150/1000], Loss: 29.2993\n",
      "Epoch [200/1000], Loss: 22.8193\n",
      "Epoch [250/1000], Loss: 17.1383\n",
      "Epoch [300/1000], Loss: 14.6737\n",
      "Epoch [350/1000], Loss: 11.4267\n",
      "Epoch [400/1000], Loss: 11.4802\n",
      "Epoch [450/1000], Loss: 10.0175\n",
      "Epoch [500/1000], Loss: 11.0888\n",
      "Epoch [550/1000], Loss: 9.4778\n",
      "Epoch [600/1000], Loss: 7.8698\n",
      "Epoch [650/1000], Loss: 7.5372\n",
      "Epoch [700/1000], Loss: 7.4760\n",
      "Epoch [750/1000], Loss: 8.7962\n",
      "Epoch [800/1000], Loss: 6.9529\n",
      "Epoch [850/1000], Loss: 6.1292\n",
      "Epoch [900/1000], Loss: 4.4171\n",
      "Epoch [950/1000], Loss: 5.8037\n"
     ]
    },
    {
     "name": "stderr",
     "output_type": "stream",
     "text": [
      "[I 2025-03-12 19:38:05,393] Trial 43 finished with value: 15.787988662719727 and parameters: {'num_layers': 5, 'num_units_0': 121, 'num_units_1': 75, 'num_units_2': 113, 'num_units_3': 79, 'num_units_4': 118}. Best is trial 17 with value: 14.274311065673828.\n"
     ]
    },
    {
     "name": "stdout",
     "output_type": "stream",
     "text": [
      "Epoch [1000/1000], Loss: 4.5065\n",
      "Epoch [50/1000], Loss: 50.0773\n",
      "Epoch [100/1000], Loss: 41.8145\n",
      "Epoch [150/1000], Loss: 37.0525\n",
      "Epoch [200/1000], Loss: 31.0663\n",
      "Epoch [250/1000], Loss: 27.3874\n",
      "Epoch [300/1000], Loss: 23.5295\n",
      "Epoch [350/1000], Loss: 23.3457\n",
      "Epoch [400/1000], Loss: 18.9647\n",
      "Epoch [450/1000], Loss: 17.5272\n",
      "Epoch [500/1000], Loss: 15.9333\n",
      "Epoch [550/1000], Loss: 16.3802\n",
      "Epoch [600/1000], Loss: 12.8857\n",
      "Epoch [650/1000], Loss: 12.5044\n",
      "Epoch [700/1000], Loss: 13.8700\n",
      "Epoch [750/1000], Loss: 11.7213\n",
      "Epoch [800/1000], Loss: 10.2759\n",
      "Epoch [850/1000], Loss: 11.2955\n",
      "Epoch [900/1000], Loss: 9.6222\n",
      "Epoch [950/1000], Loss: 9.4351\n"
     ]
    },
    {
     "name": "stderr",
     "output_type": "stream",
     "text": [
      "[I 2025-03-12 19:38:27,721] Trial 44 finished with value: 21.686777114868164 and parameters: {'num_layers': 4, 'num_units_0': 122, 'num_units_1': 58, 'num_units_2': 6, 'num_units_3': 84}. Best is trial 17 with value: 14.274311065673828.\n"
     ]
    },
    {
     "name": "stdout",
     "output_type": "stream",
     "text": [
      "Epoch [1000/1000], Loss: 11.4008\n",
      "Epoch [50/1000], Loss: 43.6709\n",
      "Epoch [100/1000], Loss: 32.1862\n",
      "Epoch [150/1000], Loss: 25.7004\n",
      "Epoch [200/1000], Loss: 22.7031\n",
      "Epoch [250/1000], Loss: 15.2895\n",
      "Epoch [300/1000], Loss: 13.4342\n",
      "Epoch [350/1000], Loss: 13.7880\n",
      "Epoch [400/1000], Loss: 12.1814\n",
      "Epoch [450/1000], Loss: 10.3754\n",
      "Epoch [500/1000], Loss: 13.7607\n",
      "Epoch [550/1000], Loss: 8.7377\n",
      "Epoch [600/1000], Loss: 9.3366\n",
      "Epoch [650/1000], Loss: 8.4591\n",
      "Epoch [700/1000], Loss: 7.4825\n",
      "Epoch [750/1000], Loss: 7.0749\n",
      "Epoch [800/1000], Loss: 8.2641\n",
      "Epoch [850/1000], Loss: 5.6168\n",
      "Epoch [900/1000], Loss: 5.4956\n",
      "Epoch [950/1000], Loss: 6.4902\n"
     ]
    },
    {
     "name": "stderr",
     "output_type": "stream",
     "text": [
      "[I 2025-03-12 19:38:49,398] Trial 45 finished with value: 17.167579650878906 and parameters: {'num_layers': 5, 'num_units_0': 127, 'num_units_1': 75, 'num_units_2': 120, 'num_units_3': 84, 'num_units_4': 117}. Best is trial 17 with value: 14.274311065673828.\n"
     ]
    },
    {
     "name": "stdout",
     "output_type": "stream",
     "text": [
      "Epoch [1000/1000], Loss: 5.8909\n",
      "Epoch [50/1000], Loss: 42.7492\n",
      "Epoch [100/1000], Loss: 33.3733\n",
      "Epoch [150/1000], Loss: 25.7763\n",
      "Epoch [200/1000], Loss: 21.8366\n",
      "Epoch [250/1000], Loss: 18.8090\n",
      "Epoch [300/1000], Loss: 14.8487\n",
      "Epoch [350/1000], Loss: 13.4886\n",
      "Epoch [400/1000], Loss: 12.7727\n",
      "Epoch [450/1000], Loss: 10.7519\n",
      "Epoch [500/1000], Loss: 10.0533\n",
      "Epoch [550/1000], Loss: 10.7038\n",
      "Epoch [600/1000], Loss: 8.1489\n",
      "Epoch [650/1000], Loss: 7.5057\n",
      "Epoch [700/1000], Loss: 8.1466\n",
      "Epoch [750/1000], Loss: 6.9251\n",
      "Epoch [800/1000], Loss: 6.3500\n",
      "Epoch [850/1000], Loss: 6.9396\n",
      "Epoch [900/1000], Loss: 6.0073\n",
      "Epoch [950/1000], Loss: 6.5119\n"
     ]
    },
    {
     "name": "stderr",
     "output_type": "stream",
     "text": [
      "[I 2025-03-12 19:39:12,547] Trial 46 finished with value: 18.068923950195312 and parameters: {'num_layers': 5, 'num_units_0': 97, 'num_units_1': 38, 'num_units_2': 92, 'num_units_3': 98, 'num_units_4': 119}. Best is trial 17 with value: 14.274311065673828.\n"
     ]
    },
    {
     "name": "stdout",
     "output_type": "stream",
     "text": [
      "Epoch [1000/1000], Loss: 5.7914\n",
      "Epoch [50/1000], Loss: 43.2401\n",
      "Epoch [100/1000], Loss: 40.3105\n",
      "Epoch [150/1000], Loss: 35.7632\n",
      "Epoch [200/1000], Loss: 30.8077\n",
      "Epoch [250/1000], Loss: 29.1633\n",
      "Epoch [300/1000], Loss: 26.3451\n",
      "Epoch [350/1000], Loss: 27.0870\n",
      "Epoch [400/1000], Loss: 23.3131\n",
      "Epoch [450/1000], Loss: 23.5549\n",
      "Epoch [500/1000], Loss: 24.6623\n",
      "Epoch [550/1000], Loss: 21.4833\n",
      "Epoch [600/1000], Loss: 20.7506\n",
      "Epoch [650/1000], Loss: 19.0507\n",
      "Epoch [700/1000], Loss: 19.8545\n",
      "Epoch [750/1000], Loss: 18.9437\n",
      "Epoch [800/1000], Loss: 18.7168\n",
      "Epoch [850/1000], Loss: 17.4097\n",
      "Epoch [900/1000], Loss: 17.7035\n",
      "Epoch [950/1000], Loss: 17.3053\n"
     ]
    },
    {
     "name": "stderr",
     "output_type": "stream",
     "text": [
      "[I 2025-03-12 19:39:38,757] Trial 47 finished with value: 29.921436309814453 and parameters: {'num_layers': 6, 'num_units_0': 35, 'num_units_1': 4, 'num_units_2': 104, 'num_units_3': 76, 'num_units_4': 105, 'num_units_5': 72}. Best is trial 17 with value: 14.274311065673828.\n"
     ]
    },
    {
     "name": "stdout",
     "output_type": "stream",
     "text": [
      "Epoch [1000/1000], Loss: 18.4414\n",
      "Epoch [50/1000], Loss: 46.7947\n",
      "Epoch [100/1000], Loss: 39.9993\n",
      "Epoch [150/1000], Loss: 32.1997\n",
      "Epoch [200/1000], Loss: 26.1428\n",
      "Epoch [250/1000], Loss: 24.4896\n",
      "Epoch [300/1000], Loss: 24.0180\n",
      "Epoch [350/1000], Loss: 21.1081\n",
      "Epoch [400/1000], Loss: 18.0566\n",
      "Epoch [450/1000], Loss: 18.1429\n",
      "Epoch [500/1000], Loss: 16.6486\n",
      "Epoch [550/1000], Loss: 14.7196\n",
      "Epoch [600/1000], Loss: 13.9963\n",
      "Epoch [650/1000], Loss: 13.2762\n",
      "Epoch [700/1000], Loss: 13.8566\n",
      "Epoch [750/1000], Loss: 11.6367\n",
      "Epoch [800/1000], Loss: 10.9384\n",
      "Epoch [850/1000], Loss: 11.7446\n",
      "Epoch [900/1000], Loss: 10.1500\n",
      "Epoch [950/1000], Loss: 9.4219\n"
     ]
    },
    {
     "name": "stderr",
     "output_type": "stream",
     "text": [
      "[I 2025-03-12 19:39:58,996] Trial 48 finished with value: 17.841968536376953 and parameters: {'num_layers': 3, 'num_units_0': 122, 'num_units_1': 83, 'num_units_2': 113}. Best is trial 17 with value: 14.274311065673828.\n"
     ]
    },
    {
     "name": "stdout",
     "output_type": "stream",
     "text": [
      "Epoch [1000/1000], Loss: 9.6655\n",
      "Epoch [50/1000], Loss: 48.0362\n",
      "Epoch [100/1000], Loss: 41.3674\n",
      "Epoch [150/1000], Loss: 37.2238\n",
      "Epoch [200/1000], Loss: 29.3755\n",
      "Epoch [250/1000], Loss: 26.1126\n",
      "Epoch [300/1000], Loss: 24.1119\n",
      "Epoch [350/1000], Loss: 22.3806\n",
      "Epoch [400/1000], Loss: 20.0599\n",
      "Epoch [450/1000], Loss: 17.3432\n",
      "Epoch [500/1000], Loss: 17.4183\n",
      "Epoch [550/1000], Loss: 15.0583\n",
      "Epoch [600/1000], Loss: 15.9777\n",
      "Epoch [650/1000], Loss: 13.8039\n",
      "Epoch [700/1000], Loss: 13.5574\n",
      "Epoch [750/1000], Loss: 11.8408\n",
      "Epoch [800/1000], Loss: 10.3804\n",
      "Epoch [850/1000], Loss: 10.3669\n",
      "Epoch [900/1000], Loss: 11.2442\n",
      "Epoch [950/1000], Loss: 9.6310\n"
     ]
    },
    {
     "name": "stderr",
     "output_type": "stream",
     "text": [
      "[I 2025-03-12 19:40:21,247] Trial 49 finished with value: 21.22942352294922 and parameters: {'num_layers': 4, 'num_units_0': 102, 'num_units_1': 96, 'num_units_2': 18, 'num_units_3': 81}. Best is trial 17 with value: 14.274311065673828.\n"
     ]
    },
    {
     "name": "stdout",
     "output_type": "stream",
     "text": [
      "Epoch [1000/1000], Loss: 9.7350\n",
      "Epoch [50/1000], Loss: 47.6800\n",
      "Epoch [100/1000], Loss: 39.0084\n",
      "Epoch [150/1000], Loss: 33.2260\n",
      "Epoch [200/1000], Loss: 29.0184\n",
      "Epoch [250/1000], Loss: 25.2375\n",
      "Epoch [300/1000], Loss: 21.9222\n",
      "Epoch [350/1000], Loss: 19.9120\n",
      "Epoch [400/1000], Loss: 17.3192\n",
      "Epoch [450/1000], Loss: 16.8000\n",
      "Epoch [500/1000], Loss: 14.8698\n",
      "Epoch [550/1000], Loss: 15.7320\n",
      "Epoch [600/1000], Loss: 13.5639\n",
      "Epoch [650/1000], Loss: 13.0186\n",
      "Epoch [700/1000], Loss: 14.3278\n",
      "Epoch [750/1000], Loss: 11.4918\n",
      "Epoch [800/1000], Loss: 11.4560\n",
      "Epoch [850/1000], Loss: 11.2177\n",
      "Epoch [900/1000], Loss: 10.1046\n",
      "Epoch [950/1000], Loss: 10.1878\n"
     ]
    },
    {
     "name": "stderr",
     "output_type": "stream",
     "text": [
      "[I 2025-03-12 19:40:44,606] Trial 50 finished with value: 18.89426040649414 and parameters: {'num_layers': 5, 'num_units_0': 19, 'num_units_1': 54, 'num_units_2': 90, 'num_units_3': 64, 'num_units_4': 118}. Best is trial 17 with value: 14.274311065673828.\n"
     ]
    },
    {
     "name": "stdout",
     "output_type": "stream",
     "text": [
      "Epoch [1000/1000], Loss: 8.9729\n",
      "Epoch [50/1000], Loss: 49.9474\n",
      "Epoch [100/1000], Loss: 31.9721\n",
      "Epoch [150/1000], Loss: 29.5307\n",
      "Epoch [200/1000], Loss: 22.1483\n",
      "Epoch [250/1000], Loss: 16.8656\n",
      "Epoch [300/1000], Loss: 14.2312\n",
      "Epoch [350/1000], Loss: 13.1771\n",
      "Epoch [400/1000], Loss: 12.0545\n",
      "Epoch [450/1000], Loss: 10.3123\n",
      "Epoch [500/1000], Loss: 9.4171\n",
      "Epoch [550/1000], Loss: 9.7635\n",
      "Epoch [600/1000], Loss: 8.7180\n",
      "Epoch [650/1000], Loss: 8.0326\n",
      "Epoch [700/1000], Loss: 7.1943\n",
      "Epoch [750/1000], Loss: 8.3389\n",
      "Epoch [800/1000], Loss: 6.1380\n",
      "Epoch [850/1000], Loss: 6.1491\n",
      "Epoch [900/1000], Loss: 5.9107\n",
      "Epoch [950/1000], Loss: 5.4820\n"
     ]
    },
    {
     "name": "stderr",
     "output_type": "stream",
     "text": [
      "[I 2025-03-12 19:41:07,631] Trial 51 finished with value: 17.5635986328125 and parameters: {'num_layers': 5, 'num_units_0': 109, 'num_units_1': 79, 'num_units_2': 112, 'num_units_3': 71, 'num_units_4': 102}. Best is trial 17 with value: 14.274311065673828.\n"
     ]
    },
    {
     "name": "stdout",
     "output_type": "stream",
     "text": [
      "Epoch [1000/1000], Loss: 5.5410\n",
      "Epoch [50/1000], Loss: 43.9016\n",
      "Epoch [100/1000], Loss: 33.2308\n",
      "Epoch [150/1000], Loss: 27.4178\n",
      "Epoch [200/1000], Loss: 18.9265\n",
      "Epoch [250/1000], Loss: 15.8620\n",
      "Epoch [300/1000], Loss: 15.3166\n",
      "Epoch [350/1000], Loss: 12.9490\n",
      "Epoch [400/1000], Loss: 10.7969\n",
      "Epoch [450/1000], Loss: 10.5742\n",
      "Epoch [500/1000], Loss: 9.3023\n",
      "Epoch [550/1000], Loss: 10.9419\n",
      "Epoch [600/1000], Loss: 8.0345\n",
      "Epoch [650/1000], Loss: 8.7794\n",
      "Epoch [700/1000], Loss: 6.3633\n",
      "Epoch [750/1000], Loss: 7.7570\n",
      "Epoch [800/1000], Loss: 6.7012\n",
      "Epoch [850/1000], Loss: 6.9300\n",
      "Epoch [900/1000], Loss: 5.1363\n",
      "Epoch [950/1000], Loss: 4.8747\n"
     ]
    },
    {
     "name": "stderr",
     "output_type": "stream",
     "text": [
      "[I 2025-03-12 19:41:31,654] Trial 52 finished with value: 18.936006546020508 and parameters: {'num_layers': 5, 'num_units_0': 114, 'num_units_1': 91, 'num_units_2': 127, 'num_units_3': 44, 'num_units_4': 88}. Best is trial 17 with value: 14.274311065673828.\n"
     ]
    },
    {
     "name": "stdout",
     "output_type": "stream",
     "text": [
      "Epoch [1000/1000], Loss: 6.1898\n",
      "Epoch [50/1000], Loss: 42.9390\n",
      "Epoch [100/1000], Loss: 28.9400\n",
      "Epoch [150/1000], Loss: 23.8811\n",
      "Epoch [200/1000], Loss: 19.6222\n",
      "Epoch [250/1000], Loss: 17.2809\n",
      "Epoch [300/1000], Loss: 13.2531\n",
      "Epoch [350/1000], Loss: 12.3972\n",
      "Epoch [400/1000], Loss: 11.3339\n",
      "Epoch [450/1000], Loss: 9.3310\n",
      "Epoch [500/1000], Loss: 9.1763\n",
      "Epoch [550/1000], Loss: 8.8732\n",
      "Epoch [600/1000], Loss: 7.8732\n",
      "Epoch [650/1000], Loss: 10.2225\n",
      "Epoch [700/1000], Loss: 7.4846\n",
      "Epoch [750/1000], Loss: 7.1671\n",
      "Epoch [800/1000], Loss: 5.9345\n",
      "Epoch [850/1000], Loss: 5.8941\n",
      "Epoch [900/1000], Loss: 6.5540\n",
      "Epoch [950/1000], Loss: 4.9432\n"
     ]
    },
    {
     "name": "stderr",
     "output_type": "stream",
     "text": [
      "[I 2025-03-12 19:41:55,505] Trial 53 finished with value: 18.08909797668457 and parameters: {'num_layers': 5, 'num_units_0': 128, 'num_units_1': 66, 'num_units_2': 98, 'num_units_3': 59, 'num_units_4': 113}. Best is trial 17 with value: 14.274311065673828.\n"
     ]
    },
    {
     "name": "stdout",
     "output_type": "stream",
     "text": [
      "Epoch [1000/1000], Loss: 5.7722\n",
      "Epoch [50/1000], Loss: 48.4495\n",
      "Epoch [100/1000], Loss: 42.2006\n",
      "Epoch [150/1000], Loss: 36.3561\n",
      "Epoch [200/1000], Loss: 30.3113\n",
      "Epoch [250/1000], Loss: 25.6454\n",
      "Epoch [300/1000], Loss: 23.4340\n",
      "Epoch [350/1000], Loss: 21.3635\n",
      "Epoch [400/1000], Loss: 19.8026\n",
      "Epoch [450/1000], Loss: 17.7095\n",
      "Epoch [500/1000], Loss: 14.7656\n",
      "Epoch [550/1000], Loss: 13.5327\n",
      "Epoch [600/1000], Loss: 16.5346\n",
      "Epoch [650/1000], Loss: 11.9929\n",
      "Epoch [700/1000], Loss: 11.9669\n",
      "Epoch [750/1000], Loss: 11.2453\n",
      "Epoch [800/1000], Loss: 11.3202\n",
      "Epoch [850/1000], Loss: 11.5005\n",
      "Epoch [900/1000], Loss: 10.0792\n",
      "Epoch [950/1000], Loss: 8.8647\n"
     ]
    },
    {
     "name": "stderr",
     "output_type": "stream",
     "text": [
      "[I 2025-03-12 19:42:21,453] Trial 54 finished with value: 19.230056762695312 and parameters: {'num_layers': 5, 'num_units_0': 119, 'num_units_1': 73, 'num_units_2': 105, 'num_units_3': 66, 'num_units_4': 7}. Best is trial 17 with value: 14.274311065673828.\n"
     ]
    },
    {
     "name": "stdout",
     "output_type": "stream",
     "text": [
      "Epoch [1000/1000], Loss: 9.6317\n",
      "Epoch [50/1000], Loss: 44.5205\n",
      "Epoch [100/1000], Loss: 34.4402\n",
      "Epoch [150/1000], Loss: 27.4025\n",
      "Epoch [200/1000], Loss: 21.7393\n",
      "Epoch [250/1000], Loss: 18.9942\n",
      "Epoch [300/1000], Loss: 13.5242\n",
      "Epoch [350/1000], Loss: 12.9641\n",
      "Epoch [400/1000], Loss: 12.0097\n",
      "Epoch [450/1000], Loss: 11.0901\n",
      "Epoch [500/1000], Loss: 9.7636\n",
      "Epoch [550/1000], Loss: 9.9068\n",
      "Epoch [600/1000], Loss: 8.9250\n",
      "Epoch [650/1000], Loss: 6.9647\n",
      "Epoch [700/1000], Loss: 7.3760\n",
      "Epoch [750/1000], Loss: 7.2486\n",
      "Epoch [800/1000], Loss: 6.2006\n",
      "Epoch [850/1000], Loss: 7.5704\n",
      "Epoch [900/1000], Loss: 6.1828\n",
      "Epoch [950/1000], Loss: 7.2682\n"
     ]
    },
    {
     "name": "stderr",
     "output_type": "stream",
     "text": [
      "[I 2025-03-12 19:42:45,630] Trial 55 finished with value: 15.8768949508667 and parameters: {'num_layers': 5, 'num_units_0': 94, 'num_units_1': 106, 'num_units_2': 111, 'num_units_3': 87, 'num_units_4': 99}. Best is trial 17 with value: 14.274311065673828.\n"
     ]
    },
    {
     "name": "stdout",
     "output_type": "stream",
     "text": [
      "Epoch [1000/1000], Loss: 5.5271\n",
      "Epoch [50/1000], Loss: 43.6190\n",
      "Epoch [100/1000], Loss: 32.1468\n",
      "Epoch [150/1000], Loss: 21.1730\n",
      "Epoch [200/1000], Loss: 16.9393\n",
      "Epoch [250/1000], Loss: 14.3101\n",
      "Epoch [300/1000], Loss: 12.6310\n",
      "Epoch [350/1000], Loss: 12.4146\n",
      "Epoch [400/1000], Loss: 8.5102\n",
      "Epoch [450/1000], Loss: 7.6083\n",
      "Epoch [500/1000], Loss: 8.1071\n",
      "Epoch [550/1000], Loss: 7.8318\n",
      "Epoch [600/1000], Loss: 6.8188\n",
      "Epoch [650/1000], Loss: 6.2322\n",
      "Epoch [700/1000], Loss: 6.0552\n",
      "Epoch [750/1000], Loss: 6.2486\n",
      "Epoch [800/1000], Loss: 5.7163\n",
      "Epoch [850/1000], Loss: 5.3668\n",
      "Epoch [900/1000], Loss: 5.8628\n",
      "Epoch [950/1000], Loss: 4.7801\n"
     ]
    },
    {
     "name": "stderr",
     "output_type": "stream",
     "text": [
      "[I 2025-03-12 19:43:09,435] Trial 56 finished with value: 18.28873062133789 and parameters: {'num_layers': 5, 'num_units_0': 80, 'num_units_1': 124, 'num_units_2': 122, 'num_units_3': 101, 'num_units_4': 99}. Best is trial 17 with value: 14.274311065673828.\n"
     ]
    },
    {
     "name": "stdout",
     "output_type": "stream",
     "text": [
      "Epoch [1000/1000], Loss: 4.2700\n",
      "Epoch [50/1000], Loss: 42.3865\n",
      "Epoch [100/1000], Loss: 32.7929\n",
      "Epoch [150/1000], Loss: 26.6207\n",
      "Epoch [200/1000], Loss: 21.9828\n",
      "Epoch [250/1000], Loss: 19.7180\n",
      "Epoch [300/1000], Loss: 15.8324\n",
      "Epoch [350/1000], Loss: 15.3758\n",
      "Epoch [400/1000], Loss: 10.8087\n",
      "Epoch [450/1000], Loss: 9.6520\n",
      "Epoch [500/1000], Loss: 9.4473\n",
      "Epoch [550/1000], Loss: 8.5571\n",
      "Epoch [600/1000], Loss: 8.8141\n",
      "Epoch [650/1000], Loss: 7.5259\n",
      "Epoch [700/1000], Loss: 6.0147\n",
      "Epoch [750/1000], Loss: 6.1053\n",
      "Epoch [800/1000], Loss: 6.8235\n",
      "Epoch [850/1000], Loss: 5.6156\n",
      "Epoch [900/1000], Loss: 6.8161\n",
      "Epoch [950/1000], Loss: 5.4613\n"
     ]
    },
    {
     "name": "stderr",
     "output_type": "stream",
     "text": [
      "[I 2025-03-12 19:43:34,839] Trial 57 finished with value: 16.083372116088867 and parameters: {'num_layers': 6, 'num_units_0': 88, 'num_units_1': 105, 'num_units_2': 115, 'num_units_3': 86, 'num_units_4': 119, 'num_units_5': 33}. Best is trial 17 with value: 14.274311065673828.\n"
     ]
    },
    {
     "name": "stdout",
     "output_type": "stream",
     "text": [
      "Epoch [1000/1000], Loss: 5.5262\n",
      "Epoch [50/1000], Loss: 45.3875\n",
      "Epoch [100/1000], Loss: 35.8127\n",
      "Epoch [150/1000], Loss: 27.7067\n",
      "Epoch [200/1000], Loss: 26.8052\n",
      "Epoch [250/1000], Loss: 20.8051\n",
      "Epoch [300/1000], Loss: 18.3954\n",
      "Epoch [350/1000], Loss: 16.0978\n",
      "Epoch [400/1000], Loss: 12.8957\n",
      "Epoch [450/1000], Loss: 11.9883\n",
      "Epoch [500/1000], Loss: 13.0038\n",
      "Epoch [550/1000], Loss: 10.6686\n",
      "Epoch [600/1000], Loss: 12.2636\n",
      "Epoch [650/1000], Loss: 10.1133\n",
      "Epoch [700/1000], Loss: 9.0565\n",
      "Epoch [750/1000], Loss: 9.1651\n",
      "Epoch [800/1000], Loss: 8.7507\n",
      "Epoch [850/1000], Loss: 8.3559\n",
      "Epoch [900/1000], Loss: 7.4939\n",
      "Epoch [950/1000], Loss: 6.9678\n"
     ]
    },
    {
     "name": "stderr",
     "output_type": "stream",
     "text": [
      "[I 2025-03-12 19:43:57,751] Trial 58 finished with value: 16.407756805419922 and parameters: {'num_layers': 4, 'num_units_0': 94, 'num_units_1': 114, 'num_units_2': 110, 'num_units_3': 77}. Best is trial 17 with value: 14.274311065673828.\n"
     ]
    },
    {
     "name": "stdout",
     "output_type": "stream",
     "text": [
      "Epoch [1000/1000], Loss: 6.8712\n",
      "Epoch [50/1000], Loss: 43.4319\n",
      "Epoch [100/1000], Loss: 30.2471\n",
      "Epoch [150/1000], Loss: 25.1773\n",
      "Epoch [200/1000], Loss: 20.8008\n",
      "Epoch [250/1000], Loss: 18.0882\n",
      "Epoch [300/1000], Loss: 16.2922\n",
      "Epoch [350/1000], Loss: 14.7985\n",
      "Epoch [400/1000], Loss: 11.3357\n",
      "Epoch [450/1000], Loss: 11.1712\n",
      "Epoch [500/1000], Loss: 9.0421\n",
      "Epoch [550/1000], Loss: 9.5273\n",
      "Epoch [600/1000], Loss: 11.3111\n",
      "Epoch [650/1000], Loss: 8.2531\n",
      "Epoch [700/1000], Loss: 8.4158\n",
      "Epoch [750/1000], Loss: 7.3026\n",
      "Epoch [800/1000], Loss: 6.5797\n",
      "Epoch [850/1000], Loss: 6.8233\n",
      "Epoch [900/1000], Loss: 7.2495\n",
      "Epoch [950/1000], Loss: 6.8844\n"
     ]
    },
    {
     "name": "stderr",
     "output_type": "stream",
     "text": [
      "[I 2025-03-12 19:44:22,747] Trial 59 finished with value: 21.162254333496094 and parameters: {'num_layers': 5, 'num_units_0': 57, 'num_units_1': 97, 'num_units_2': 73, 'num_units_3': 98, 'num_units_4': 124}. Best is trial 17 with value: 14.274311065673828.\n"
     ]
    },
    {
     "name": "stdout",
     "output_type": "stream",
     "text": [
      "Epoch [1000/1000], Loss: 7.0574\n",
      "Epoch [50/1000], Loss: 44.3492\n",
      "Epoch [100/1000], Loss: 35.0327\n",
      "Epoch [150/1000], Loss: 27.8840\n",
      "Epoch [200/1000], Loss: 21.6737\n",
      "Epoch [250/1000], Loss: 17.9768\n",
      "Epoch [300/1000], Loss: 14.8159\n",
      "Epoch [350/1000], Loss: 13.1173\n",
      "Epoch [400/1000], Loss: 11.5005\n",
      "Epoch [450/1000], Loss: 9.9367\n",
      "Epoch [500/1000], Loss: 9.6164\n",
      "Epoch [550/1000], Loss: 8.3664\n",
      "Epoch [600/1000], Loss: 8.8905\n",
      "Epoch [650/1000], Loss: 7.8631\n",
      "Epoch [700/1000], Loss: 6.4807\n",
      "Epoch [750/1000], Loss: 7.2494\n",
      "Epoch [800/1000], Loss: 6.0929\n",
      "Epoch [850/1000], Loss: 5.5893\n",
      "Epoch [900/1000], Loss: 5.0389\n",
      "Epoch [950/1000], Loss: 5.1778\n"
     ]
    },
    {
     "name": "stderr",
     "output_type": "stream",
     "text": [
      "[I 2025-03-12 19:44:45,018] Trial 60 finished with value: 15.017904281616211 and parameters: {'num_layers': 5, 'num_units_0': 101, 'num_units_1': 102, 'num_units_2': 98, 'num_units_3': 108, 'num_units_4': 109}. Best is trial 17 with value: 14.274311065673828.\n"
     ]
    },
    {
     "name": "stdout",
     "output_type": "stream",
     "text": [
      "Epoch [1000/1000], Loss: 4.9442\n",
      "Epoch [50/1000], Loss: 45.1335\n",
      "Epoch [100/1000], Loss: 32.6929\n",
      "Epoch [150/1000], Loss: 22.0393\n",
      "Epoch [200/1000], Loss: 17.7797\n",
      "Epoch [250/1000], Loss: 16.1435\n",
      "Epoch [300/1000], Loss: 12.7930\n",
      "Epoch [350/1000], Loss: 9.8541\n",
      "Epoch [400/1000], Loss: 9.2188\n",
      "Epoch [450/1000], Loss: 9.5758\n",
      "Epoch [500/1000], Loss: 8.7416\n",
      "Epoch [550/1000], Loss: 7.2081\n",
      "Epoch [600/1000], Loss: 7.2107\n",
      "Epoch [650/1000], Loss: 6.2911\n",
      "Epoch [700/1000], Loss: 6.7402\n",
      "Epoch [750/1000], Loss: 7.2882\n",
      "Epoch [800/1000], Loss: 7.9567\n",
      "Epoch [850/1000], Loss: 5.5448\n",
      "Epoch [900/1000], Loss: 6.0536\n",
      "Epoch [950/1000], Loss: 5.7911\n"
     ]
    },
    {
     "name": "stderr",
     "output_type": "stream",
     "text": [
      "[I 2025-03-12 19:45:07,767] Trial 61 finished with value: 20.85187530517578 and parameters: {'num_layers': 5, 'num_units_0': 101, 'num_units_1': 121, 'num_units_2': 104, 'num_units_3': 119, 'num_units_4': 108}. Best is trial 17 with value: 14.274311065673828.\n"
     ]
    },
    {
     "name": "stdout",
     "output_type": "stream",
     "text": [
      "Epoch [1000/1000], Loss: 5.2757\n",
      "Epoch [50/1000], Loss: 44.2940\n",
      "Epoch [100/1000], Loss: 33.9400\n",
      "Epoch [150/1000], Loss: 27.9173\n",
      "Epoch [200/1000], Loss: 23.0363\n",
      "Epoch [250/1000], Loss: 18.3991\n",
      "Epoch [300/1000], Loss: 15.4828\n",
      "Epoch [350/1000], Loss: 13.7178\n",
      "Epoch [400/1000], Loss: 12.0914\n",
      "Epoch [450/1000], Loss: 10.8188\n",
      "Epoch [500/1000], Loss: 9.6522\n",
      "Epoch [550/1000], Loss: 9.8565\n",
      "Epoch [600/1000], Loss: 9.1532\n",
      "Epoch [650/1000], Loss: 7.6600\n",
      "Epoch [700/1000], Loss: 10.5856\n",
      "Epoch [750/1000], Loss: 6.4951\n",
      "Epoch [800/1000], Loss: 6.1499\n",
      "Epoch [850/1000], Loss: 5.4485\n",
      "Epoch [900/1000], Loss: 5.9865\n",
      "Epoch [950/1000], Loss: 5.6174\n"
     ]
    },
    {
     "name": "stderr",
     "output_type": "stream",
     "text": [
      "[I 2025-03-12 19:45:31,470] Trial 62 finished with value: 16.582977294921875 and parameters: {'num_layers': 5, 'num_units_0': 97, 'num_units_1': 94, 'num_units_2': 98, 'num_units_3': 112, 'num_units_4': 94}. Best is trial 17 with value: 14.274311065673828.\n"
     ]
    },
    {
     "name": "stdout",
     "output_type": "stream",
     "text": [
      "Epoch [1000/1000], Loss: 4.7697\n",
      "Epoch [50/1000], Loss: 42.8176\n",
      "Epoch [100/1000], Loss: 31.1989\n",
      "Epoch [150/1000], Loss: 24.4536\n",
      "Epoch [200/1000], Loss: 20.9062\n",
      "Epoch [250/1000], Loss: 17.6099\n",
      "Epoch [300/1000], Loss: 14.3280\n",
      "Epoch [350/1000], Loss: 12.5405\n",
      "Epoch [400/1000], Loss: 11.2883\n",
      "Epoch [450/1000], Loss: 9.5718\n",
      "Epoch [500/1000], Loss: 11.3810\n",
      "Epoch [550/1000], Loss: 10.0568\n",
      "Epoch [600/1000], Loss: 8.1370\n",
      "Epoch [650/1000], Loss: 7.4332\n",
      "Epoch [700/1000], Loss: 5.8239\n",
      "Epoch [750/1000], Loss: 5.7633\n",
      "Epoch [800/1000], Loss: 5.8236\n",
      "Epoch [850/1000], Loss: 6.2161\n",
      "Epoch [900/1000], Loss: 6.4876\n",
      "Epoch [950/1000], Loss: 4.8735\n"
     ]
    },
    {
     "name": "stderr",
     "output_type": "stream",
     "text": [
      "[I 2025-03-12 19:45:56,533] Trial 63 finished with value: 14.683032035827637 and parameters: {'num_layers': 5, 'num_units_0': 113, 'num_units_1': 106, 'num_units_2': 95, 'num_units_3': 106, 'num_units_4': 128}. Best is trial 17 with value: 14.274311065673828.\n"
     ]
    },
    {
     "name": "stdout",
     "output_type": "stream",
     "text": [
      "Epoch [1000/1000], Loss: 5.9909\n",
      "Epoch [50/1000], Loss: 46.4566\n",
      "Epoch [100/1000], Loss: 34.6050\n",
      "Epoch [150/1000], Loss: 28.7113\n",
      "Epoch [200/1000], Loss: 21.8848\n",
      "Epoch [250/1000], Loss: 18.0041\n",
      "Epoch [300/1000], Loss: 14.3890\n",
      "Epoch [350/1000], Loss: 14.0574\n",
      "Epoch [400/1000], Loss: 12.7570\n",
      "Epoch [450/1000], Loss: 12.1362\n",
      "Epoch [500/1000], Loss: 10.6993\n",
      "Epoch [550/1000], Loss: 10.5484\n",
      "Epoch [600/1000], Loss: 10.8854\n",
      "Epoch [650/1000], Loss: 9.7556\n",
      "Epoch [700/1000], Loss: 8.4054\n",
      "Epoch [750/1000], Loss: 7.5826\n",
      "Epoch [800/1000], Loss: 7.1538\n",
      "Epoch [850/1000], Loss: 6.7195\n",
      "Epoch [900/1000], Loss: 6.4983\n",
      "Epoch [950/1000], Loss: 5.4912\n"
     ]
    },
    {
     "name": "stderr",
     "output_type": "stream",
     "text": [
      "[I 2025-03-12 19:46:20,407] Trial 64 finished with value: 22.36319351196289 and parameters: {'num_layers': 5, 'num_units_0': 109, 'num_units_1': 102, 'num_units_2': 87, 'num_units_3': 104, 'num_units_4': 126}. Best is trial 17 with value: 14.274311065673828.\n"
     ]
    },
    {
     "name": "stdout",
     "output_type": "stream",
     "text": [
      "Epoch [1000/1000], Loss: 6.1337\n",
      "Epoch [50/1000], Loss: 42.1459\n",
      "Epoch [100/1000], Loss: 30.0614\n",
      "Epoch [150/1000], Loss: 22.9232\n",
      "Epoch [200/1000], Loss: 21.3044\n",
      "Epoch [250/1000], Loss: 14.4476\n",
      "Epoch [300/1000], Loss: 13.4249\n",
      "Epoch [350/1000], Loss: 13.1164\n",
      "Epoch [400/1000], Loss: 10.1931\n",
      "Epoch [450/1000], Loss: 11.0800\n",
      "Epoch [500/1000], Loss: 10.0248\n",
      "Epoch [550/1000], Loss: 7.8808\n",
      "Epoch [600/1000], Loss: 7.9449\n",
      "Epoch [650/1000], Loss: 8.8851\n",
      "Epoch [700/1000], Loss: 8.2676\n",
      "Epoch [750/1000], Loss: 7.2735\n",
      "Epoch [800/1000], Loss: 6.6771\n",
      "Epoch [850/1000], Loss: 6.8159\n",
      "Epoch [900/1000], Loss: 6.8896\n",
      "Epoch [950/1000], Loss: 5.6488\n"
     ]
    },
    {
     "name": "stderr",
     "output_type": "stream",
     "text": [
      "[I 2025-03-12 19:46:42,653] Trial 65 finished with value: 17.790956497192383 and parameters: {'num_layers': 5, 'num_units_0': 114, 'num_units_1': 108, 'num_units_2': 108, 'num_units_3': 110, 'num_units_4': 121}. Best is trial 17 with value: 14.274311065673828.\n"
     ]
    },
    {
     "name": "stdout",
     "output_type": "stream",
     "text": [
      "Epoch [1000/1000], Loss: 4.9478\n",
      "Epoch [50/1000], Loss: 42.5436\n",
      "Epoch [100/1000], Loss: 31.4407\n",
      "Epoch [150/1000], Loss: 20.7023\n",
      "Epoch [200/1000], Loss: 19.3345\n",
      "Epoch [250/1000], Loss: 16.3936\n",
      "Epoch [300/1000], Loss: 14.5515\n",
      "Epoch [350/1000], Loss: 13.2829\n",
      "Epoch [400/1000], Loss: 13.3062\n",
      "Epoch [450/1000], Loss: 11.2354\n",
      "Epoch [500/1000], Loss: 11.0514\n",
      "Epoch [550/1000], Loss: 8.8296\n",
      "Epoch [600/1000], Loss: 8.7158\n",
      "Epoch [650/1000], Loss: 8.3199\n",
      "Epoch [700/1000], Loss: 8.2315\n",
      "Epoch [750/1000], Loss: 8.1427\n",
      "Epoch [800/1000], Loss: 7.3979\n",
      "Epoch [850/1000], Loss: 7.7750\n",
      "Epoch [900/1000], Loss: 6.2241\n",
      "Epoch [950/1000], Loss: 5.1697\n"
     ]
    },
    {
     "name": "stderr",
     "output_type": "stream",
     "text": [
      "[I 2025-03-12 19:47:07,720] Trial 66 finished with value: 20.079261779785156 and parameters: {'num_layers': 6, 'num_units_0': 105, 'num_units_1': 80, 'num_units_2': 64, 'num_units_3': 94, 'num_units_4': 114, 'num_units_5': 112}. Best is trial 17 with value: 14.274311065673828.\n"
     ]
    },
    {
     "name": "stdout",
     "output_type": "stream",
     "text": [
      "Epoch [1000/1000], Loss: 5.9367\n",
      "Epoch [50/1000], Loss: 45.2110\n",
      "Epoch [100/1000], Loss: 29.4154\n",
      "Epoch [150/1000], Loss: 22.2116\n",
      "Epoch [200/1000], Loss: 17.5816\n",
      "Epoch [250/1000], Loss: 16.3193\n",
      "Epoch [300/1000], Loss: 14.8707\n",
      "Epoch [350/1000], Loss: 13.3311\n",
      "Epoch [400/1000], Loss: 9.9178\n",
      "Epoch [450/1000], Loss: 9.8956\n",
      "Epoch [500/1000], Loss: 8.7823\n",
      "Epoch [550/1000], Loss: 7.3008\n",
      "Epoch [600/1000], Loss: 7.1497\n",
      "Epoch [650/1000], Loss: 8.7258\n",
      "Epoch [700/1000], Loss: 6.7824\n",
      "Epoch [750/1000], Loss: 6.3863\n",
      "Epoch [800/1000], Loss: 5.3667\n",
      "Epoch [850/1000], Loss: 5.1665\n",
      "Epoch [900/1000], Loss: 4.7668\n",
      "Epoch [950/1000], Loss: 4.5959\n"
     ]
    },
    {
     "name": "stderr",
     "output_type": "stream",
     "text": [
      "[I 2025-03-12 19:47:32,101] Trial 67 finished with value: 16.507404327392578 and parameters: {'num_layers': 5, 'num_units_0': 119, 'num_units_1': 87, 'num_units_2': 82, 'num_units_3': 106, 'num_units_4': 128}. Best is trial 17 with value: 14.274311065673828.\n"
     ]
    },
    {
     "name": "stdout",
     "output_type": "stream",
     "text": [
      "Epoch [1000/1000], Loss: 4.7130\n",
      "Epoch [50/1000], Loss: 44.0066\n",
      "Epoch [100/1000], Loss: 31.0707\n",
      "Epoch [150/1000], Loss: 24.5792\n",
      "Epoch [200/1000], Loss: 19.6347\n",
      "Epoch [250/1000], Loss: 15.7309\n",
      "Epoch [300/1000], Loss: 15.2399\n",
      "Epoch [350/1000], Loss: 11.5857\n",
      "Epoch [400/1000], Loss: 11.3439\n",
      "Epoch [450/1000], Loss: 8.9934\n",
      "Epoch [500/1000], Loss: 8.8408\n",
      "Epoch [550/1000], Loss: 8.4786\n",
      "Epoch [600/1000], Loss: 9.0790\n",
      "Epoch [650/1000], Loss: 7.8121\n",
      "Epoch [700/1000], Loss: 6.5872\n",
      "Epoch [750/1000], Loss: 8.2617\n",
      "Epoch [800/1000], Loss: 6.2476\n",
      "Epoch [850/1000], Loss: 5.1174\n",
      "Epoch [900/1000], Loss: 5.1751\n",
      "Epoch [950/1000], Loss: 5.2577\n"
     ]
    },
    {
     "name": "stderr",
     "output_type": "stream",
     "text": [
      "[I 2025-03-12 19:47:56,353] Trial 68 finished with value: 15.267769813537598 and parameters: {'num_layers': 5, 'num_units_0': 124, 'num_units_1': 98, 'num_units_2': 102, 'num_units_3': 125, 'num_units_4': 107}. Best is trial 17 with value: 14.274311065673828.\n"
     ]
    },
    {
     "name": "stdout",
     "output_type": "stream",
     "text": [
      "Epoch [1000/1000], Loss: 4.4387\n",
      "Epoch [50/1000], Loss: 41.0675\n",
      "Epoch [100/1000], Loss: 31.8135\n",
      "Epoch [150/1000], Loss: 23.6761\n",
      "Epoch [200/1000], Loss: 18.7182\n",
      "Epoch [250/1000], Loss: 15.2299\n",
      "Epoch [300/1000], Loss: 13.5097\n",
      "Epoch [350/1000], Loss: 10.9539\n",
      "Epoch [400/1000], Loss: 10.0658\n",
      "Epoch [450/1000], Loss: 8.0417\n",
      "Epoch [500/1000], Loss: 7.8895\n",
      "Epoch [550/1000], Loss: 6.6815\n",
      "Epoch [600/1000], Loss: 6.0875\n",
      "Epoch [650/1000], Loss: 7.0251\n",
      "Epoch [700/1000], Loss: 5.4870\n",
      "Epoch [750/1000], Loss: 6.0375\n",
      "Epoch [800/1000], Loss: 5.2541\n",
      "Epoch [850/1000], Loss: 5.3419\n",
      "Epoch [900/1000], Loss: 4.3096\n",
      "Epoch [950/1000], Loss: 4.3504\n"
     ]
    },
    {
     "name": "stderr",
     "output_type": "stream",
     "text": [
      "[I 2025-03-12 19:48:24,525] Trial 69 finished with value: 12.174188613891602 and parameters: {'num_layers': 6, 'num_units_0': 126, 'num_units_1': 98, 'num_units_2': 101, 'num_units_3': 125, 'num_units_4': 109, 'num_units_5': 89}. Best is trial 69 with value: 12.174188613891602.\n"
     ]
    },
    {
     "name": "stdout",
     "output_type": "stream",
     "text": [
      "Epoch [1000/1000], Loss: 4.6772\n",
      "Epoch [50/1000], Loss: 44.9617\n",
      "Epoch [100/1000], Loss: 33.0701\n",
      "Epoch [150/1000], Loss: 24.1779\n",
      "Epoch [200/1000], Loss: 20.6718\n",
      "Epoch [250/1000], Loss: 15.9473\n",
      "Epoch [300/1000], Loss: 16.3475\n",
      "Epoch [350/1000], Loss: 13.1904\n",
      "Epoch [400/1000], Loss: 13.4721\n",
      "Epoch [450/1000], Loss: 10.1779\n",
      "Epoch [500/1000], Loss: 9.7375\n",
      "Epoch [550/1000], Loss: 7.6527\n",
      "Epoch [600/1000], Loss: 8.5181\n",
      "Epoch [650/1000], Loss: 7.5704\n",
      "Epoch [700/1000], Loss: 6.8823\n",
      "Epoch [750/1000], Loss: 5.7057\n",
      "Epoch [800/1000], Loss: 4.7864\n",
      "Epoch [850/1000], Loss: 6.4917\n",
      "Epoch [900/1000], Loss: 4.9123\n",
      "Epoch [950/1000], Loss: 4.9332\n"
     ]
    },
    {
     "name": "stderr",
     "output_type": "stream",
     "text": [
      "[I 2025-03-12 19:48:50,442] Trial 70 finished with value: 18.017227172851562 and parameters: {'num_layers': 6, 'num_units_0': 128, 'num_units_1': 100, 'num_units_2': 101, 'num_units_3': 125, 'num_units_4': 108, 'num_units_5': 89}. Best is trial 69 with value: 12.174188613891602.\n"
     ]
    },
    {
     "name": "stdout",
     "output_type": "stream",
     "text": [
      "Epoch [1000/1000], Loss: 4.7851\n",
      "Epoch [50/1000], Loss: 37.6093\n",
      "Epoch [100/1000], Loss: 26.2528\n",
      "Epoch [150/1000], Loss: 19.3945\n",
      "Epoch [200/1000], Loss: 16.2346\n",
      "Epoch [250/1000], Loss: 11.8079\n",
      "Epoch [300/1000], Loss: 11.9059\n",
      "Epoch [350/1000], Loss: 11.7917\n",
      "Epoch [400/1000], Loss: 8.2005\n",
      "Epoch [450/1000], Loss: 8.8535\n",
      "Epoch [500/1000], Loss: 6.7033\n",
      "Epoch [550/1000], Loss: 6.4576\n",
      "Epoch [600/1000], Loss: 7.7129\n",
      "Epoch [650/1000], Loss: 6.1557\n",
      "Epoch [700/1000], Loss: 5.4670\n",
      "Epoch [750/1000], Loss: 5.9927\n",
      "Epoch [800/1000], Loss: 4.9391\n",
      "Epoch [850/1000], Loss: 5.6060\n",
      "Epoch [900/1000], Loss: 5.5569\n",
      "Epoch [950/1000], Loss: 4.3456\n"
     ]
    },
    {
     "name": "stderr",
     "output_type": "stream",
     "text": [
      "[I 2025-03-12 19:49:16,806] Trial 71 finished with value: 16.123374938964844 and parameters: {'num_layers': 6, 'num_units_0': 124, 'num_units_1': 90, 'num_units_2': 96, 'num_units_3': 122, 'num_units_4': 123, 'num_units_5': 125}. Best is trial 69 with value: 12.174188613891602.\n"
     ]
    },
    {
     "name": "stdout",
     "output_type": "stream",
     "text": [
      "Epoch [1000/1000], Loss: 5.1826\n",
      "Epoch [50/1000], Loss: 44.0013\n",
      "Epoch [100/1000], Loss: 32.5159\n",
      "Epoch [150/1000], Loss: 22.3908\n",
      "Epoch [200/1000], Loss: 17.2780\n",
      "Epoch [250/1000], Loss: 17.6199\n",
      "Epoch [300/1000], Loss: 12.9430\n",
      "Epoch [350/1000], Loss: 12.1261\n",
      "Epoch [400/1000], Loss: 12.8291\n",
      "Epoch [450/1000], Loss: 8.6312\n",
      "Epoch [500/1000], Loss: 8.1784\n",
      "Epoch [550/1000], Loss: 7.5337\n",
      "Epoch [600/1000], Loss: 6.9308\n",
      "Epoch [650/1000], Loss: 6.6221\n",
      "Epoch [700/1000], Loss: 6.4500\n",
      "Epoch [750/1000], Loss: 5.0851\n",
      "Epoch [800/1000], Loss: 5.0670\n",
      "Epoch [850/1000], Loss: 5.1670\n",
      "Epoch [900/1000], Loss: 4.8251\n",
      "Epoch [950/1000], Loss: 4.5226\n"
     ]
    },
    {
     "name": "stderr",
     "output_type": "stream",
     "text": [
      "[I 2025-03-12 19:49:43,364] Trial 72 finished with value: 22.219331741333008 and parameters: {'num_layers': 6, 'num_units_0': 124, 'num_units_1': 95, 'num_units_2': 89, 'num_units_3': 118, 'num_units_4': 115, 'num_units_5': 103}. Best is trial 69 with value: 12.174188613891602.\n"
     ]
    },
    {
     "name": "stdout",
     "output_type": "stream",
     "text": [
      "Epoch [1000/1000], Loss: 4.4924\n",
      "Epoch [50/1000], Loss: 42.5871\n",
      "Epoch [100/1000], Loss: 32.4780\n",
      "Epoch [150/1000], Loss: 25.6181\n",
      "Epoch [200/1000], Loss: 19.2097\n",
      "Epoch [250/1000], Loss: 16.1732\n",
      "Epoch [300/1000], Loss: 16.5037\n",
      "Epoch [350/1000], Loss: 12.0553\n",
      "Epoch [400/1000], Loss: 10.0552\n",
      "Epoch [450/1000], Loss: 8.4758\n",
      "Epoch [500/1000], Loss: 9.8453\n",
      "Epoch [550/1000], Loss: 9.0368\n",
      "Epoch [600/1000], Loss: 7.5914\n",
      "Epoch [650/1000], Loss: 7.0265\n",
      "Epoch [700/1000], Loss: 5.8279\n",
      "Epoch [750/1000], Loss: 6.1600\n",
      "Epoch [800/1000], Loss: 5.7045\n",
      "Epoch [850/1000], Loss: 6.1091\n",
      "Epoch [900/1000], Loss: 6.2574\n",
      "Epoch [950/1000], Loss: 4.2968\n"
     ]
    },
    {
     "name": "stderr",
     "output_type": "stream",
     "text": [
      "[I 2025-03-12 19:50:09,907] Trial 73 finished with value: 15.106789588928223 and parameters: {'num_layers': 6, 'num_units_0': 119, 'num_units_1': 83, 'num_units_2': 103, 'num_units_3': 115, 'num_units_4': 106, 'num_units_5': 82}. Best is trial 69 with value: 12.174188613891602.\n"
     ]
    },
    {
     "name": "stdout",
     "output_type": "stream",
     "text": [
      "Epoch [1000/1000], Loss: 5.0642\n",
      "Epoch [50/1000], Loss: 41.6251\n",
      "Epoch [100/1000], Loss: 33.9778\n",
      "Epoch [150/1000], Loss: 23.2546\n",
      "Epoch [200/1000], Loss: 19.9009\n",
      "Epoch [250/1000], Loss: 17.2093\n",
      "Epoch [300/1000], Loss: 14.0479\n",
      "Epoch [350/1000], Loss: 14.1885\n",
      "Epoch [400/1000], Loss: 12.6759\n",
      "Epoch [450/1000], Loss: 11.7506\n",
      "Epoch [500/1000], Loss: 11.5660\n",
      "Epoch [550/1000], Loss: 9.5749\n",
      "Epoch [600/1000], Loss: 8.3306\n",
      "Epoch [650/1000], Loss: 9.6302\n",
      "Epoch [700/1000], Loss: 8.4163\n",
      "Epoch [750/1000], Loss: 7.1722\n",
      "Epoch [800/1000], Loss: 7.9308\n",
      "Epoch [850/1000], Loss: 6.5421\n",
      "Epoch [900/1000], Loss: 6.0080\n",
      "Epoch [950/1000], Loss: 6.4786\n"
     ]
    },
    {
     "name": "stderr",
     "output_type": "stream",
     "text": [
      "[I 2025-03-12 19:50:35,075] Trial 74 finished with value: 18.879201889038086 and parameters: {'num_layers': 6, 'num_units_0': 116, 'num_units_1': 83, 'num_units_2': 102, 'num_units_3': 113, 'num_units_4': 108, 'num_units_5': 80}. Best is trial 69 with value: 12.174188613891602.\n"
     ]
    },
    {
     "name": "stdout",
     "output_type": "stream",
     "text": [
      "Epoch [1000/1000], Loss: 5.9394\n",
      "Epoch [50/1000], Loss: 42.2382\n",
      "Epoch [100/1000], Loss: 30.6049\n",
      "Epoch [150/1000], Loss: 25.4744\n",
      "Epoch [200/1000], Loss: 22.5811\n",
      "Epoch [250/1000], Loss: 15.7157\n",
      "Epoch [300/1000], Loss: 14.7602\n",
      "Epoch [350/1000], Loss: 10.9206\n",
      "Epoch [400/1000], Loss: 11.4415\n",
      "Epoch [450/1000], Loss: 11.8418\n",
      "Epoch [500/1000], Loss: 10.9323\n",
      "Epoch [550/1000], Loss: 9.3496\n",
      "Epoch [600/1000], Loss: 7.5131\n",
      "Epoch [650/1000], Loss: 6.9599\n",
      "Epoch [700/1000], Loss: 6.1900\n",
      "Epoch [750/1000], Loss: 5.2589\n",
      "Epoch [800/1000], Loss: 6.9359\n",
      "Epoch [850/1000], Loss: 5.6970\n",
      "Epoch [900/1000], Loss: 5.4086\n",
      "Epoch [950/1000], Loss: 4.8252\n"
     ]
    },
    {
     "name": "stderr",
     "output_type": "stream",
     "text": [
      "[I 2025-03-12 19:50:58,896] Trial 75 finished with value: 21.42893409729004 and parameters: {'num_layers': 6, 'num_units_0': 112, 'num_units_1': 98, 'num_units_2': 92, 'num_units_3': 123, 'num_units_4': 103, 'num_units_5': 61}. Best is trial 69 with value: 12.174188613891602.\n"
     ]
    },
    {
     "name": "stdout",
     "output_type": "stream",
     "text": [
      "Epoch [1000/1000], Loss: 4.0872\n",
      "Epoch [50/1000], Loss: 41.5146\n",
      "Epoch [100/1000], Loss: 28.3935\n",
      "Epoch [150/1000], Loss: 24.1127\n",
      "Epoch [200/1000], Loss: 17.2817\n",
      "Epoch [250/1000], Loss: 14.4887\n",
      "Epoch [300/1000], Loss: 11.4108\n",
      "Epoch [350/1000], Loss: 10.7932\n",
      "Epoch [400/1000], Loss: 9.6660\n",
      "Epoch [450/1000], Loss: 8.7578\n",
      "Epoch [500/1000], Loss: 8.5743\n",
      "Epoch [550/1000], Loss: 8.0415\n",
      "Epoch [600/1000], Loss: 6.2786\n",
      "Epoch [650/1000], Loss: 7.4323\n",
      "Epoch [700/1000], Loss: 6.2453\n",
      "Epoch [750/1000], Loss: 6.2171\n",
      "Epoch [800/1000], Loss: 5.6144\n",
      "Epoch [850/1000], Loss: 5.8811\n",
      "Epoch [900/1000], Loss: 5.1709\n",
      "Epoch [950/1000], Loss: 5.3055\n"
     ]
    },
    {
     "name": "stderr",
     "output_type": "stream",
     "text": [
      "[I 2025-03-12 19:51:24,648] Trial 76 finished with value: 17.78451156616211 and parameters: {'num_layers': 6, 'num_units_0': 119, 'num_units_1': 88, 'num_units_2': 106, 'num_units_3': 115, 'num_units_4': 110, 'num_units_5': 81}. Best is trial 69 with value: 12.174188613891602.\n"
     ]
    },
    {
     "name": "stdout",
     "output_type": "stream",
     "text": [
      "Epoch [1000/1000], Loss: 4.5084\n",
      "Epoch [50/1000], Loss: 42.6774\n",
      "Epoch [100/1000], Loss: 31.9181\n",
      "Epoch [150/1000], Loss: 29.3933\n",
      "Epoch [200/1000], Loss: 17.4836\n",
      "Epoch [250/1000], Loss: 15.0837\n",
      "Epoch [300/1000], Loss: 14.6701\n",
      "Epoch [350/1000], Loss: 13.9030\n",
      "Epoch [400/1000], Loss: 15.1463\n",
      "Epoch [450/1000], Loss: 11.1532\n",
      "Epoch [500/1000], Loss: 9.3830\n",
      "Epoch [550/1000], Loss: 9.6333\n",
      "Epoch [600/1000], Loss: 8.5307\n",
      "Epoch [650/1000], Loss: 9.1411\n",
      "Epoch [700/1000], Loss: 6.7065\n",
      "Epoch [750/1000], Loss: 7.0878\n",
      "Epoch [800/1000], Loss: 5.2808\n",
      "Epoch [850/1000], Loss: 6.2705\n",
      "Epoch [900/1000], Loss: 5.5257\n",
      "Epoch [950/1000], Loss: 5.3645\n"
     ]
    },
    {
     "name": "stderr",
     "output_type": "stream",
     "text": [
      "[I 2025-03-12 19:51:51,151] Trial 77 finished with value: 17.453712463378906 and parameters: {'num_layers': 6, 'num_units_0': 113, 'num_units_1': 104, 'num_units_2': 75, 'num_units_3': 127, 'num_units_4': 93, 'num_units_5': 101}. Best is trial 69 with value: 12.174188613891602.\n"
     ]
    },
    {
     "name": "stdout",
     "output_type": "stream",
     "text": [
      "Epoch [1000/1000], Loss: 5.8856\n",
      "Epoch [50/1000], Loss: 43.1495\n",
      "Epoch [100/1000], Loss: 30.4282\n",
      "Epoch [150/1000], Loss: 23.7044\n",
      "Epoch [200/1000], Loss: 22.4210\n",
      "Epoch [250/1000], Loss: 18.2106\n",
      "Epoch [300/1000], Loss: 13.6836\n",
      "Epoch [350/1000], Loss: 14.9762\n",
      "Epoch [400/1000], Loss: 12.1305\n",
      "Epoch [450/1000], Loss: 11.5763\n",
      "Epoch [500/1000], Loss: 8.8323\n",
      "Epoch [550/1000], Loss: 7.8913\n",
      "Epoch [600/1000], Loss: 7.1633\n",
      "Epoch [650/1000], Loss: 7.3040\n",
      "Epoch [700/1000], Loss: 8.3674\n",
      "Epoch [750/1000], Loss: 7.4091\n",
      "Epoch [800/1000], Loss: 6.6339\n",
      "Epoch [850/1000], Loss: 5.4954\n",
      "Epoch [900/1000], Loss: 6.3096\n",
      "Epoch [950/1000], Loss: 4.8244\n"
     ]
    },
    {
     "name": "stderr",
     "output_type": "stream",
     "text": [
      "[I 2025-03-12 19:52:16,295] Trial 78 finished with value: 15.748100280761719 and parameters: {'num_layers': 6, 'num_units_0': 125, 'num_units_1': 112, 'num_units_2': 97, 'num_units_3': 107, 'num_units_4': 99, 'num_units_5': 114}. Best is trial 69 with value: 12.174188613891602.\n"
     ]
    },
    {
     "name": "stdout",
     "output_type": "stream",
     "text": [
      "Epoch [1000/1000], Loss: 5.9944\n",
      "Epoch [50/1000], Loss: 41.9909\n",
      "Epoch [100/1000], Loss: 29.4086\n",
      "Epoch [150/1000], Loss: 22.2188\n",
      "Epoch [200/1000], Loss: 17.3236\n",
      "Epoch [250/1000], Loss: 13.4560\n",
      "Epoch [300/1000], Loss: 16.3011\n",
      "Epoch [350/1000], Loss: 10.9079\n",
      "Epoch [400/1000], Loss: 11.1529\n",
      "Epoch [450/1000], Loss: 10.9758\n",
      "Epoch [500/1000], Loss: 8.6175\n",
      "Epoch [550/1000], Loss: 7.2940\n",
      "Epoch [600/1000], Loss: 8.0041\n",
      "Epoch [650/1000], Loss: 6.8248\n",
      "Epoch [700/1000], Loss: 6.7577\n",
      "Epoch [750/1000], Loss: 5.8973\n",
      "Epoch [800/1000], Loss: 6.1285\n",
      "Epoch [850/1000], Loss: 4.9685\n",
      "Epoch [900/1000], Loss: 5.3863\n",
      "Epoch [950/1000], Loss: 6.1058\n"
     ]
    },
    {
     "name": "stderr",
     "output_type": "stream",
     "text": [
      "[I 2025-03-12 19:52:40,997] Trial 79 finished with value: 17.249042510986328 and parameters: {'num_layers': 6, 'num_units_0': 103, 'num_units_1': 94, 'num_units_2': 86, 'num_units_3': 122, 'num_units_4': 90, 'num_units_5': 38}. Best is trial 69 with value: 12.174188613891602.\n"
     ]
    },
    {
     "name": "stdout",
     "output_type": "stream",
     "text": [
      "Epoch [1000/1000], Loss: 5.5827\n",
      "Epoch [50/1000], Loss: 46.1440\n",
      "Epoch [100/1000], Loss: 35.8134\n",
      "Epoch [150/1000], Loss: 30.1460\n",
      "Epoch [200/1000], Loss: 25.1205\n",
      "Epoch [250/1000], Loss: 19.8249\n",
      "Epoch [300/1000], Loss: 16.7863\n",
      "Epoch [350/1000], Loss: 14.2685\n",
      "Epoch [400/1000], Loss: 14.5418\n",
      "Epoch [450/1000], Loss: 11.1892\n",
      "Epoch [500/1000], Loss: 10.1873\n",
      "Epoch [550/1000], Loss: 11.6446\n",
      "Epoch [600/1000], Loss: 12.0071\n",
      "Epoch [650/1000], Loss: 8.5957\n",
      "Epoch [700/1000], Loss: 8.2277\n",
      "Epoch [750/1000], Loss: 8.6309\n",
      "Epoch [800/1000], Loss: 9.9985\n",
      "Epoch [850/1000], Loss: 6.7611\n",
      "Epoch [900/1000], Loss: 7.5872\n",
      "Epoch [950/1000], Loss: 8.5537\n"
     ]
    },
    {
     "name": "stderr",
     "output_type": "stream",
     "text": [
      "[I 2025-03-12 19:53:05,646] Trial 80 finished with value: 19.37809181213379 and parameters: {'num_layers': 6, 'num_units_0': 118, 'num_units_1': 85, 'num_units_2': 81, 'num_units_3': 11, 'num_units_4': 56, 'num_units_5': 62}. Best is trial 69 with value: 12.174188613891602.\n"
     ]
    },
    {
     "name": "stdout",
     "output_type": "stream",
     "text": [
      "Epoch [1000/1000], Loss: 6.8002\n",
      "Epoch [50/1000], Loss: 44.7736\n",
      "Epoch [100/1000], Loss: 32.5572\n",
      "Epoch [150/1000], Loss: 25.1804\n",
      "Epoch [200/1000], Loss: 20.3417\n",
      "Epoch [250/1000], Loss: 15.9335\n",
      "Epoch [300/1000], Loss: 12.9920\n",
      "Epoch [350/1000], Loss: 15.2523\n",
      "Epoch [400/1000], Loss: 9.8285\n",
      "Epoch [450/1000], Loss: 9.3321\n",
      "Epoch [500/1000], Loss: 8.3664\n",
      "Epoch [550/1000], Loss: 6.8030\n",
      "Epoch [600/1000], Loss: 7.2467\n",
      "Epoch [650/1000], Loss: 6.6355\n",
      "Epoch [700/1000], Loss: 6.4968\n",
      "Epoch [750/1000], Loss: 6.1618\n",
      "Epoch [800/1000], Loss: 4.8704\n",
      "Epoch [850/1000], Loss: 4.5317\n",
      "Epoch [900/1000], Loss: 5.0330\n",
      "Epoch [950/1000], Loss: 3.6279\n"
     ]
    },
    {
     "name": "stderr",
     "output_type": "stream",
     "text": [
      "[I 2025-03-12 19:53:31,736] Trial 81 finished with value: 12.999357223510742 and parameters: {'num_layers': 6, 'num_units_0': 124, 'num_units_1': 108, 'num_units_2': 99, 'num_units_3': 107, 'num_units_4': 101, 'num_units_5': 116}. Best is trial 69 with value: 12.174188613891602.\n"
     ]
    },
    {
     "name": "stdout",
     "output_type": "stream",
     "text": [
      "Epoch [1000/1000], Loss: 4.3068\n",
      "Epoch [50/1000], Loss: 41.7315\n",
      "Epoch [100/1000], Loss: 30.1990\n",
      "Epoch [150/1000], Loss: 26.1986\n",
      "Epoch [200/1000], Loss: 20.3437\n",
      "Epoch [250/1000], Loss: 15.3991\n",
      "Epoch [300/1000], Loss: 11.5448\n",
      "Epoch [350/1000], Loss: 11.3621\n",
      "Epoch [400/1000], Loss: 10.8994\n",
      "Epoch [450/1000], Loss: 8.0492\n",
      "Epoch [500/1000], Loss: 6.9271\n",
      "Epoch [550/1000], Loss: 6.7336\n",
      "Epoch [600/1000], Loss: 7.3627\n",
      "Epoch [650/1000], Loss: 5.9004\n",
      "Epoch [700/1000], Loss: 5.4091\n",
      "Epoch [750/1000], Loss: 5.3599\n",
      "Epoch [800/1000], Loss: 5.2855\n",
      "Epoch [850/1000], Loss: 5.9035\n",
      "Epoch [900/1000], Loss: 4.9244\n",
      "Epoch [950/1000], Loss: 4.0955\n"
     ]
    },
    {
     "name": "stderr",
     "output_type": "stream",
     "text": [
      "[I 2025-03-12 19:53:57,885] Trial 82 finished with value: 14.253144264221191 and parameters: {'num_layers': 6, 'num_units_0': 108, 'num_units_1': 109, 'num_units_2': 101, 'num_units_3': 117, 'num_units_4': 106, 'num_units_5': 111}. Best is trial 69 with value: 12.174188613891602.\n"
     ]
    },
    {
     "name": "stdout",
     "output_type": "stream",
     "text": [
      "Epoch [1000/1000], Loss: 4.0438\n",
      "Epoch [50/1000], Loss: 40.1631\n",
      "Epoch [100/1000], Loss: 28.0254\n",
      "Epoch [150/1000], Loss: 21.5217\n",
      "Epoch [200/1000], Loss: 16.7587\n",
      "Epoch [250/1000], Loss: 14.2195\n",
      "Epoch [300/1000], Loss: 13.3591\n",
      "Epoch [350/1000], Loss: 11.7012\n",
      "Epoch [400/1000], Loss: 11.9411\n",
      "Epoch [450/1000], Loss: 10.3071\n",
      "Epoch [500/1000], Loss: 8.2998\n",
      "Epoch [550/1000], Loss: 7.1296\n",
      "Epoch [600/1000], Loss: 6.7696\n",
      "Epoch [650/1000], Loss: 7.2899\n",
      "Epoch [700/1000], Loss: 5.5219\n",
      "Epoch [750/1000], Loss: 6.6848\n",
      "Epoch [800/1000], Loss: 6.0791\n",
      "Epoch [850/1000], Loss: 5.2488\n",
      "Epoch [900/1000], Loss: 5.2481\n",
      "Epoch [950/1000], Loss: 5.2746\n"
     ]
    },
    {
     "name": "stderr",
     "output_type": "stream",
     "text": [
      "[I 2025-03-12 19:54:26,321] Trial 83 finished with value: 16.384151458740234 and parameters: {'num_layers': 6, 'num_units_0': 125, 'num_units_1': 109, 'num_units_2': 94, 'num_units_3': 116, 'num_units_4': 84, 'num_units_5': 117}. Best is trial 69 with value: 12.174188613891602.\n"
     ]
    },
    {
     "name": "stdout",
     "output_type": "stream",
     "text": [
      "Epoch [1000/1000], Loss: 4.8978\n",
      "Epoch [50/1000], Loss: 43.9140\n",
      "Epoch [100/1000], Loss: 32.1016\n",
      "Epoch [150/1000], Loss: 25.1959\n",
      "Epoch [200/1000], Loss: 21.4280\n",
      "Epoch [250/1000], Loss: 17.9675\n",
      "Epoch [300/1000], Loss: 17.6684\n",
      "Epoch [350/1000], Loss: 16.1603\n",
      "Epoch [400/1000], Loss: 14.3955\n",
      "Epoch [450/1000], Loss: 12.0770\n",
      "Epoch [500/1000], Loss: 11.3684\n",
      "Epoch [550/1000], Loss: 11.7542\n",
      "Epoch [600/1000], Loss: 11.0826\n",
      "Epoch [650/1000], Loss: 10.3482\n",
      "Epoch [700/1000], Loss: 9.3808\n",
      "Epoch [750/1000], Loss: 7.9486\n",
      "Epoch [800/1000], Loss: 7.7572\n",
      "Epoch [850/1000], Loss: 7.5484\n",
      "Epoch [900/1000], Loss: 6.5857\n",
      "Epoch [950/1000], Loss: 5.6807\n"
     ]
    },
    {
     "name": "stderr",
     "output_type": "stream",
     "text": [
      "[I 2025-03-12 19:54:52,249] Trial 84 finished with value: 16.084333419799805 and parameters: {'num_layers': 6, 'num_units_0': 108, 'num_units_1': 18, 'num_units_2': 100, 'num_units_3': 119, 'num_units_4': 102, 'num_units_5': 108}. Best is trial 69 with value: 12.174188613891602.\n"
     ]
    },
    {
     "name": "stdout",
     "output_type": "stream",
     "text": [
      "Epoch [1000/1000], Loss: 6.2193\n",
      "Epoch [50/1000], Loss: 42.4101\n",
      "Epoch [100/1000], Loss: 32.0863\n",
      "Epoch [150/1000], Loss: 24.1706\n",
      "Epoch [200/1000], Loss: 19.1195\n",
      "Epoch [250/1000], Loss: 16.3179\n",
      "Epoch [300/1000], Loss: 14.5208\n",
      "Epoch [350/1000], Loss: 12.6640\n",
      "Epoch [400/1000], Loss: 11.2897\n",
      "Epoch [450/1000], Loss: 10.1319\n",
      "Epoch [500/1000], Loss: 11.2495\n",
      "Epoch [550/1000], Loss: 9.4859\n",
      "Epoch [600/1000], Loss: 7.0625\n",
      "Epoch [650/1000], Loss: 7.0835\n",
      "Epoch [700/1000], Loss: 7.8229\n",
      "Epoch [750/1000], Loss: 6.2123\n",
      "Epoch [800/1000], Loss: 6.3157\n",
      "Epoch [850/1000], Loss: 5.7681\n",
      "Epoch [900/1000], Loss: 4.7355\n",
      "Epoch [950/1000], Loss: 5.5073\n"
     ]
    },
    {
     "name": "stderr",
     "output_type": "stream",
     "text": [
      "[I 2025-03-12 19:55:17,932] Trial 85 finished with value: 18.060476303100586 and parameters: {'num_layers': 6, 'num_units_0': 115, 'num_units_1': 102, 'num_units_2': 42, 'num_units_3': 111, 'num_units_4': 105, 'num_units_5': 122}. Best is trial 69 with value: 12.174188613891602.\n"
     ]
    },
    {
     "name": "stdout",
     "output_type": "stream",
     "text": [
      "Epoch [1000/1000], Loss: 5.3815\n",
      "Epoch [50/1000], Loss: 41.9736\n",
      "Epoch [100/1000], Loss: 31.9533\n",
      "Epoch [150/1000], Loss: 25.3336\n",
      "Epoch [200/1000], Loss: 20.2241\n",
      "Epoch [250/1000], Loss: 15.3000\n",
      "Epoch [300/1000], Loss: 15.0507\n",
      "Epoch [350/1000], Loss: 10.7008\n",
      "Epoch [400/1000], Loss: 12.3376\n",
      "Epoch [450/1000], Loss: 9.4627\n",
      "Epoch [500/1000], Loss: 9.3610\n",
      "Epoch [550/1000], Loss: 8.6316\n",
      "Epoch [600/1000], Loss: 7.4340\n",
      "Epoch [650/1000], Loss: 6.3615\n",
      "Epoch [700/1000], Loss: 6.2984\n",
      "Epoch [750/1000], Loss: 6.0614\n",
      "Epoch [800/1000], Loss: 5.7089\n",
      "Epoch [850/1000], Loss: 5.5779\n",
      "Epoch [900/1000], Loss: 4.8256\n",
      "Epoch [950/1000], Loss: 5.3782\n"
     ]
    },
    {
     "name": "stderr",
     "output_type": "stream",
     "text": [
      "[I 2025-03-12 19:55:44,123] Trial 86 finished with value: 17.343116760253906 and parameters: {'num_layers': 6, 'num_units_0': 121, 'num_units_1': 114, 'num_units_2': 104, 'num_units_3': 107, 'num_units_4': 81, 'num_units_5': 95}. Best is trial 69 with value: 12.174188613891602.\n"
     ]
    },
    {
     "name": "stdout",
     "output_type": "stream",
     "text": [
      "Epoch [1000/1000], Loss: 4.9322\n",
      "Epoch [50/1000], Loss: 41.5997\n",
      "Epoch [100/1000], Loss: 36.8862\n",
      "Epoch [150/1000], Loss: 21.1962\n",
      "Epoch [200/1000], Loss: 17.2919\n",
      "Epoch [250/1000], Loss: 14.5610\n",
      "Epoch [300/1000], Loss: 13.6665\n",
      "Epoch [350/1000], Loss: 11.1216\n",
      "Epoch [400/1000], Loss: 11.2670\n",
      "Epoch [450/1000], Loss: 9.2646\n",
      "Epoch [500/1000], Loss: 7.7778\n",
      "Epoch [550/1000], Loss: 8.5260\n",
      "Epoch [600/1000], Loss: 6.8342\n",
      "Epoch [650/1000], Loss: 8.6436\n",
      "Epoch [700/1000], Loss: 6.0896\n",
      "Epoch [750/1000], Loss: 5.9658\n",
      "Epoch [800/1000], Loss: 6.7308\n",
      "Epoch [850/1000], Loss: 5.2453\n",
      "Epoch [900/1000], Loss: 6.6783\n",
      "Epoch [950/1000], Loss: 4.5335\n"
     ]
    },
    {
     "name": "stderr",
     "output_type": "stream",
     "text": [
      "[I 2025-03-12 19:56:10,784] Trial 87 finished with value: 22.958763122558594 and parameters: {'num_layers': 6, 'num_units_0': 125, 'num_units_1': 99, 'num_units_2': 108, 'num_units_3': 114, 'num_units_4': 96, 'num_units_5': 82}. Best is trial 69 with value: 12.174188613891602.\n"
     ]
    },
    {
     "name": "stdout",
     "output_type": "stream",
     "text": [
      "Epoch [1000/1000], Loss: 4.5517\n",
      "Epoch [50/1000], Loss: 45.0497\n",
      "Epoch [100/1000], Loss: 32.2416\n",
      "Epoch [150/1000], Loss: 22.5962\n",
      "Epoch [200/1000], Loss: 16.4952\n",
      "Epoch [250/1000], Loss: 14.0214\n",
      "Epoch [300/1000], Loss: 13.2074\n",
      "Epoch [350/1000], Loss: 13.1424\n",
      "Epoch [400/1000], Loss: 10.2102\n",
      "Epoch [450/1000], Loss: 9.1816\n",
      "Epoch [500/1000], Loss: 9.8979\n",
      "Epoch [550/1000], Loss: 8.6887\n",
      "Epoch [600/1000], Loss: 7.7311\n",
      "Epoch [650/1000], Loss: 6.5734\n",
      "Epoch [700/1000], Loss: 7.6201\n",
      "Epoch [750/1000], Loss: 7.4023\n",
      "Epoch [800/1000], Loss: 5.9103\n",
      "Epoch [850/1000], Loss: 6.5163\n",
      "Epoch [900/1000], Loss: 5.5437\n",
      "Epoch [950/1000], Loss: 9.4423\n"
     ]
    },
    {
     "name": "stderr",
     "output_type": "stream",
     "text": [
      "[I 2025-03-12 19:56:35,793] Trial 88 finished with value: 16.265560150146484 and parameters: {'num_layers': 6, 'num_units_0': 111, 'num_units_1': 120, 'num_units_2': 92, 'num_units_3': 101, 'num_units_4': 110, 'num_units_5': 96}. Best is trial 69 with value: 12.174188613891602.\n"
     ]
    },
    {
     "name": "stdout",
     "output_type": "stream",
     "text": [
      "Epoch [1000/1000], Loss: 5.3883\n",
      "Epoch [50/1000], Loss: 44.3468\n",
      "Epoch [100/1000], Loss: 32.2247\n",
      "Epoch [150/1000], Loss: 25.0809\n",
      "Epoch [200/1000], Loss: 19.9295\n",
      "Epoch [250/1000], Loss: 15.9408\n",
      "Epoch [300/1000], Loss: 14.5661\n",
      "Epoch [350/1000], Loss: 13.3039\n",
      "Epoch [400/1000], Loss: 12.0610\n",
      "Epoch [450/1000], Loss: 10.4078\n",
      "Epoch [500/1000], Loss: 10.6256\n",
      "Epoch [550/1000], Loss: 10.2406\n",
      "Epoch [600/1000], Loss: 8.8621\n",
      "Epoch [650/1000], Loss: 8.2061\n",
      "Epoch [700/1000], Loss: 8.2128\n",
      "Epoch [750/1000], Loss: 6.3267\n",
      "Epoch [800/1000], Loss: 7.8267\n",
      "Epoch [850/1000], Loss: 5.2843\n",
      "Epoch [900/1000], Loss: 5.7788\n",
      "Epoch [950/1000], Loss: 5.2297\n"
     ]
    },
    {
     "name": "stderr",
     "output_type": "stream",
     "text": [
      "[I 2025-03-12 19:56:59,673] Trial 89 finished with value: 14.965999603271484 and parameters: {'num_layers': 6, 'num_units_0': 47, 'num_units_1': 108, 'num_units_2': 119, 'num_units_3': 124, 'num_units_4': 99, 'num_units_5': 110}. Best is trial 69 with value: 12.174188613891602.\n"
     ]
    },
    {
     "name": "stdout",
     "output_type": "stream",
     "text": [
      "Epoch [1000/1000], Loss: 5.5731\n",
      "Epoch [50/1000], Loss: 42.3172\n",
      "Epoch [100/1000], Loss: 32.3309\n",
      "Epoch [150/1000], Loss: 22.8308\n",
      "Epoch [200/1000], Loss: 18.1678\n",
      "Epoch [250/1000], Loss: 17.6453\n",
      "Epoch [300/1000], Loss: 14.5355\n",
      "Epoch [350/1000], Loss: 11.7136\n",
      "Epoch [400/1000], Loss: 11.4243\n",
      "Epoch [450/1000], Loss: 10.5004\n",
      "Epoch [500/1000], Loss: 12.2977\n",
      "Epoch [550/1000], Loss: 11.6272\n",
      "Epoch [600/1000], Loss: 8.3612\n",
      "Epoch [650/1000], Loss: 8.9790\n",
      "Epoch [700/1000], Loss: 8.9382\n",
      "Epoch [750/1000], Loss: 8.5652\n",
      "Epoch [800/1000], Loss: 6.2852\n",
      "Epoch [850/1000], Loss: 8.1599\n",
      "Epoch [900/1000], Loss: 6.3491\n",
      "Epoch [950/1000], Loss: 6.3488\n"
     ]
    },
    {
     "name": "stderr",
     "output_type": "stream",
     "text": [
      "[I 2025-03-12 19:57:25,235] Trial 90 finished with value: 17.03608512878418 and parameters: {'num_layers': 6, 'num_units_0': 42, 'num_units_1': 111, 'num_units_2': 119, 'num_units_3': 36, 'num_units_4': 73, 'num_units_5': 111}. Best is trial 69 with value: 12.174188613891602.\n"
     ]
    },
    {
     "name": "stdout",
     "output_type": "stream",
     "text": [
      "Epoch [1000/1000], Loss: 5.3278\n",
      "Epoch [50/1000], Loss: 40.5987\n",
      "Epoch [100/1000], Loss: 30.5740\n",
      "Epoch [150/1000], Loss: 23.8667\n",
      "Epoch [200/1000], Loss: 15.7776\n",
      "Epoch [250/1000], Loss: 16.3547\n",
      "Epoch [300/1000], Loss: 11.5081\n",
      "Epoch [350/1000], Loss: 12.9011\n",
      "Epoch [400/1000], Loss: 10.3028\n",
      "Epoch [450/1000], Loss: 10.2975\n",
      "Epoch [500/1000], Loss: 8.4900\n",
      "Epoch [550/1000], Loss: 7.2652\n",
      "Epoch [600/1000], Loss: 9.4262\n",
      "Epoch [650/1000], Loss: 7.6676\n",
      "Epoch [700/1000], Loss: 7.0977\n",
      "Epoch [750/1000], Loss: 5.9257\n",
      "Epoch [800/1000], Loss: 6.1252\n",
      "Epoch [850/1000], Loss: 5.9117\n",
      "Epoch [900/1000], Loss: 6.0611\n",
      "Epoch [950/1000], Loss: 5.0468\n"
     ]
    },
    {
     "name": "stderr",
     "output_type": "stream",
     "text": [
      "[I 2025-03-12 19:57:52,143] Trial 91 finished with value: 15.04068374633789 and parameters: {'num_layers': 6, 'num_units_0': 47, 'num_units_1': 103, 'num_units_2': 114, 'num_units_3': 128, 'num_units_4': 100, 'num_units_5': 118}. Best is trial 69 with value: 12.174188613891602.\n"
     ]
    },
    {
     "name": "stdout",
     "output_type": "stream",
     "text": [
      "Epoch [1000/1000], Loss: 4.3101\n",
      "Epoch [50/1000], Loss: 43.9820\n",
      "Epoch [100/1000], Loss: 33.4728\n",
      "Epoch [150/1000], Loss: 22.8044\n",
      "Epoch [200/1000], Loss: 18.6765\n",
      "Epoch [250/1000], Loss: 15.6264\n",
      "Epoch [300/1000], Loss: 12.7645\n",
      "Epoch [350/1000], Loss: 12.4146\n",
      "Epoch [400/1000], Loss: 9.4486\n",
      "Epoch [450/1000], Loss: 10.5422\n",
      "Epoch [500/1000], Loss: 8.6424\n",
      "Epoch [550/1000], Loss: 8.3329\n",
      "Epoch [600/1000], Loss: 10.1197\n",
      "Epoch [650/1000], Loss: 9.1329\n",
      "Epoch [700/1000], Loss: 8.7198\n",
      "Epoch [750/1000], Loss: 7.2459\n",
      "Epoch [800/1000], Loss: 6.0671\n",
      "Epoch [850/1000], Loss: 5.9510\n",
      "Epoch [900/1000], Loss: 5.8525\n",
      "Epoch [950/1000], Loss: 6.2075\n"
     ]
    },
    {
     "name": "stderr",
     "output_type": "stream",
     "text": [
      "[I 2025-03-12 19:58:17,490] Trial 92 finished with value: 17.78475570678711 and parameters: {'num_layers': 6, 'num_units_0': 48, 'num_units_1': 105, 'num_units_2': 114, 'num_units_3': 120, 'num_units_4': 91, 'num_units_5': 120}. Best is trial 69 with value: 12.174188613891602.\n"
     ]
    },
    {
     "name": "stdout",
     "output_type": "stream",
     "text": [
      "Epoch [1000/1000], Loss: 6.4566\n",
      "Epoch [50/1000], Loss: 44.3781\n",
      "Epoch [100/1000], Loss: 34.9241\n",
      "Epoch [150/1000], Loss: 27.6443\n",
      "Epoch [200/1000], Loss: 21.9059\n",
      "Epoch [250/1000], Loss: 17.5348\n",
      "Epoch [300/1000], Loss: 14.4241\n",
      "Epoch [350/1000], Loss: 13.7761\n",
      "Epoch [400/1000], Loss: 12.6486\n",
      "Epoch [450/1000], Loss: 13.6459\n",
      "Epoch [500/1000], Loss: 10.7237\n",
      "Epoch [550/1000], Loss: 8.6372\n",
      "Epoch [600/1000], Loss: 8.6999\n",
      "Epoch [650/1000], Loss: 8.7345\n",
      "Epoch [700/1000], Loss: 6.6637\n",
      "Epoch [750/1000], Loss: 7.1471\n",
      "Epoch [800/1000], Loss: 6.8465\n",
      "Epoch [850/1000], Loss: 7.2834\n",
      "Epoch [900/1000], Loss: 5.8783\n",
      "Epoch [950/1000], Loss: 8.0156\n"
     ]
    },
    {
     "name": "stderr",
     "output_type": "stream",
     "text": [
      "[I 2025-03-12 19:58:42,172] Trial 93 finished with value: 25.298702239990234 and parameters: {'num_layers': 6, 'num_units_0': 36, 'num_units_1': 108, 'num_units_2': 121, 'num_units_3': 116, 'num_units_4': 99, 'num_units_5': 125}. Best is trial 69 with value: 12.174188613891602.\n"
     ]
    },
    {
     "name": "stdout",
     "output_type": "stream",
     "text": [
      "Epoch [1000/1000], Loss: 4.7847\n",
      "Epoch [50/1000], Loss: 39.9452\n",
      "Epoch [100/1000], Loss: 28.9643\n",
      "Epoch [150/1000], Loss: 22.3312\n",
      "Epoch [200/1000], Loss: 16.7491\n",
      "Epoch [250/1000], Loss: 14.2570\n",
      "Epoch [300/1000], Loss: 14.3407\n",
      "Epoch [350/1000], Loss: 10.2276\n",
      "Epoch [400/1000], Loss: 9.4368\n",
      "Epoch [450/1000], Loss: 8.4069\n",
      "Epoch [500/1000], Loss: 7.5637\n",
      "Epoch [550/1000], Loss: 6.3026\n",
      "Epoch [600/1000], Loss: 7.2900\n",
      "Epoch [650/1000], Loss: 6.0352\n",
      "Epoch [700/1000], Loss: 6.4345\n",
      "Epoch [750/1000], Loss: 6.1925\n",
      "Epoch [800/1000], Loss: 5.8991\n",
      "Epoch [850/1000], Loss: 4.4654\n",
      "Epoch [900/1000], Loss: 5.0232\n",
      "Epoch [950/1000], Loss: 5.0376\n"
     ]
    },
    {
     "name": "stderr",
     "output_type": "stream",
     "text": [
      "[I 2025-03-12 19:59:06,975] Trial 94 finished with value: 14.148138046264648 and parameters: {'num_layers': 6, 'num_units_0': 65, 'num_units_1': 102, 'num_units_2': 116, 'num_units_3': 125, 'num_units_4': 101, 'num_units_5': 107}. Best is trial 69 with value: 12.174188613891602.\n"
     ]
    },
    {
     "name": "stdout",
     "output_type": "stream",
     "text": [
      "Epoch [1000/1000], Loss: 6.0019\n",
      "Epoch [50/1000], Loss: 42.0388\n",
      "Epoch [100/1000], Loss: 30.7008\n",
      "Epoch [150/1000], Loss: 23.5619\n",
      "Epoch [200/1000], Loss: 17.6611\n",
      "Epoch [250/1000], Loss: 14.7309\n",
      "Epoch [300/1000], Loss: 15.6196\n",
      "Epoch [350/1000], Loss: 11.7646\n",
      "Epoch [400/1000], Loss: 10.2586\n",
      "Epoch [450/1000], Loss: 9.4737\n",
      "Epoch [500/1000], Loss: 9.7918\n",
      "Epoch [550/1000], Loss: 8.1187\n",
      "Epoch [600/1000], Loss: 7.1030\n",
      "Epoch [650/1000], Loss: 6.2062\n",
      "Epoch [700/1000], Loss: 6.2298\n",
      "Epoch [750/1000], Loss: 5.2326\n",
      "Epoch [800/1000], Loss: 5.6426\n",
      "Epoch [850/1000], Loss: 4.5132\n",
      "Epoch [900/1000], Loss: 5.1358\n",
      "Epoch [950/1000], Loss: 5.2612\n"
     ]
    },
    {
     "name": "stderr",
     "output_type": "stream",
     "text": [
      "[I 2025-03-12 19:59:33,159] Trial 95 finished with value: 16.328781127929688 and parameters: {'num_layers': 6, 'num_units_0': 63, 'num_units_1': 103, 'num_units_2': 117, 'num_units_3': 128, 'num_units_4': 97, 'num_units_5': 108}. Best is trial 69 with value: 12.174188613891602.\n"
     ]
    },
    {
     "name": "stdout",
     "output_type": "stream",
     "text": [
      "Epoch [1000/1000], Loss: 5.7147\n",
      "Epoch [50/1000], Loss: 44.2715\n",
      "Epoch [100/1000], Loss: 34.5412\n",
      "Epoch [150/1000], Loss: 24.8785\n",
      "Epoch [200/1000], Loss: 22.0917\n",
      "Epoch [250/1000], Loss: 16.8592\n",
      "Epoch [300/1000], Loss: 14.0390\n",
      "Epoch [350/1000], Loss: 11.7947\n",
      "Epoch [400/1000], Loss: 12.0939\n",
      "Epoch [450/1000], Loss: 11.8035\n",
      "Epoch [500/1000], Loss: 9.4503\n",
      "Epoch [550/1000], Loss: 8.2697\n",
      "Epoch [600/1000], Loss: 8.6906\n",
      "Epoch [650/1000], Loss: 8.9604\n",
      "Epoch [700/1000], Loss: 8.7786\n",
      "Epoch [750/1000], Loss: 7.5126\n",
      "Epoch [800/1000], Loss: 8.9319\n",
      "Epoch [850/1000], Loss: 8.3373\n",
      "Epoch [900/1000], Loss: 5.9149\n",
      "Epoch [950/1000], Loss: 6.2228\n"
     ]
    },
    {
     "name": "stderr",
     "output_type": "stream",
     "text": [
      "[I 2025-03-12 19:59:59,809] Trial 96 finished with value: 16.187713623046875 and parameters: {'num_layers': 6, 'num_units_0': 51, 'num_units_1': 114, 'num_units_2': 110, 'num_units_3': 124, 'num_units_4': 101, 'num_units_5': 121}. Best is trial 69 with value: 12.174188613891602.\n"
     ]
    },
    {
     "name": "stdout",
     "output_type": "stream",
     "text": [
      "Epoch [1000/1000], Loss: 5.9700\n",
      "Epoch [50/1000], Loss: 45.7198\n",
      "Epoch [100/1000], Loss: 37.3309\n",
      "Epoch [150/1000], Loss: 26.5973\n",
      "Epoch [200/1000], Loss: 21.2181\n",
      "Epoch [250/1000], Loss: 18.1962\n",
      "Epoch [300/1000], Loss: 16.2881\n",
      "Epoch [350/1000], Loss: 15.5514\n",
      "Epoch [400/1000], Loss: 11.7997\n",
      "Epoch [450/1000], Loss: 9.4489\n",
      "Epoch [500/1000], Loss: 9.0435\n",
      "Epoch [550/1000], Loss: 8.1238\n",
      "Epoch [600/1000], Loss: 7.3555\n",
      "Epoch [650/1000], Loss: 7.4449\n",
      "Epoch [700/1000], Loss: 5.9413\n",
      "Epoch [750/1000], Loss: 7.6666\n",
      "Epoch [800/1000], Loss: 6.4430\n",
      "Epoch [850/1000], Loss: 7.2216\n",
      "Epoch [900/1000], Loss: 5.9350\n",
      "Epoch [950/1000], Loss: 5.5473\n"
     ]
    },
    {
     "name": "stderr",
     "output_type": "stream",
     "text": [
      "[I 2025-03-12 20:00:28,056] Trial 97 finished with value: 18.99959373474121 and parameters: {'num_layers': 6, 'num_units_0': 72, 'num_units_1': 108, 'num_units_2': 125, 'num_units_3': 121, 'num_units_4': 25, 'num_units_5': 128}. Best is trial 69 with value: 12.174188613891602.\n"
     ]
    },
    {
     "name": "stdout",
     "output_type": "stream",
     "text": [
      "Epoch [1000/1000], Loss: 5.5136\n",
      "Epoch [50/1000], Loss: 42.5576\n",
      "Epoch [100/1000], Loss: 31.6337\n",
      "Epoch [150/1000], Loss: 23.6387\n",
      "Epoch [200/1000], Loss: 19.8699\n",
      "Epoch [250/1000], Loss: 15.2065\n",
      "Epoch [300/1000], Loss: 14.2743\n",
      "Epoch [350/1000], Loss: 10.5629\n",
      "Epoch [400/1000], Loss: 10.0637\n",
      "Epoch [450/1000], Loss: 10.2715\n",
      "Epoch [500/1000], Loss: 7.6068\n",
      "Epoch [550/1000], Loss: 7.2428\n",
      "Epoch [600/1000], Loss: 8.8904\n",
      "Epoch [650/1000], Loss: 7.4778\n",
      "Epoch [700/1000], Loss: 7.3451\n",
      "Epoch [750/1000], Loss: 5.9056\n",
      "Epoch [800/1000], Loss: 5.3985\n",
      "Epoch [850/1000], Loss: 6.1963\n",
      "Epoch [900/1000], Loss: 5.3034\n",
      "Epoch [950/1000], Loss: 5.3437\n"
     ]
    },
    {
     "name": "stderr",
     "output_type": "stream",
     "text": [
      "[I 2025-03-12 20:00:53,818] Trial 98 finished with value: 18.614818572998047 and parameters: {'num_layers': 6, 'num_units_0': 42, 'num_units_1': 93, 'num_units_2': 116, 'num_units_3': 109, 'num_units_4': 84, 'num_units_5': 115}. Best is trial 69 with value: 12.174188613891602.\n"
     ]
    },
    {
     "name": "stdout",
     "output_type": "stream",
     "text": [
      "Epoch [1000/1000], Loss: 5.2554\n",
      "Epoch [50/1000], Loss: 43.7806\n",
      "Epoch [100/1000], Loss: 35.5549\n",
      "Epoch [150/1000], Loss: 24.4774\n",
      "Epoch [200/1000], Loss: 21.6697\n",
      "Epoch [250/1000], Loss: 16.9402\n",
      "Epoch [300/1000], Loss: 12.3718\n",
      "Epoch [350/1000], Loss: 11.9422\n",
      "Epoch [400/1000], Loss: 12.9622\n",
      "Epoch [450/1000], Loss: 11.3503\n",
      "Epoch [500/1000], Loss: 7.7084\n",
      "Epoch [550/1000], Loss: 8.7721\n",
      "Epoch [600/1000], Loss: 7.5512\n",
      "Epoch [650/1000], Loss: 7.8368\n",
      "Epoch [700/1000], Loss: 6.4369\n",
      "Epoch [750/1000], Loss: 5.7667\n",
      "Epoch [800/1000], Loss: 6.1725\n",
      "Epoch [850/1000], Loss: 5.2001\n",
      "Epoch [900/1000], Loss: 5.6266\n",
      "Epoch [950/1000], Loss: 6.1707\n"
     ]
    },
    {
     "name": "stderr",
     "output_type": "stream",
     "text": [
      "[I 2025-03-12 20:01:18,905] Trial 99 finished with value: 20.364547729492188 and parameters: {'num_layers': 6, 'num_units_0': 58, 'num_units_1': 120, 'num_units_2': 68, 'num_units_3': 126, 'num_units_4': 115, 'num_units_5': 103}. Best is trial 69 with value: 12.174188613891602.\n"
     ]
    },
    {
     "name": "stdout",
     "output_type": "stream",
     "text": [
      "Epoch [1000/1000], Loss: 6.0821\n",
      "Best trial:\n",
      "  Value: 12.174188613891602\n",
      "  Params: {'num_layers': 6, 'num_units_0': 126, 'num_units_1': 98, 'num_units_2': 101, 'num_units_3': 125, 'num_units_4': 109, 'num_units_5': 89}\n"
     ]
    }
   ],
   "execution_count": 3
  },
  {
   "metadata": {},
   "cell_type": "code",
   "outputs": [],
   "execution_count": null,
   "source": "",
   "id": "8ded03df3f4e91f2"
  }
 ],
 "metadata": {
  "kernelspec": {
   "display_name": "Python 3",
   "language": "python",
   "name": "python3"
  },
  "language_info": {
   "codemirror_mode": {
    "name": "ipython",
    "version": 2
   },
   "file_extension": ".py",
   "mimetype": "text/x-python",
   "name": "python",
   "nbconvert_exporter": "python",
   "pygments_lexer": "ipython2",
   "version": "2.7.6"
  }
 },
 "nbformat": 4,
 "nbformat_minor": 5
}
